{
  "nbformat": 4,
  "nbformat_minor": 0,
  "metadata": {
    "colab": {
      "provenance": [],
      "machine_shape": "hm",
      "gpuType": "T4"
    },
    "kernelspec": {
      "name": "python3",
      "display_name": "Python 3"
    },
    "accelerator": "GPU",
    "widgets": {
      "application/vnd.jupyter.widget-state+json": {
        "8d9d1394bb504818bec0504362bb97dd": {
          "model_module": "@jupyter-widgets/controls",
          "model_name": "HBoxModel",
          "model_module_version": "1.5.0",
          "state": {
            "_dom_classes": [],
            "_model_module": "@jupyter-widgets/controls",
            "_model_module_version": "1.5.0",
            "_model_name": "HBoxModel",
            "_view_count": null,
            "_view_module": "@jupyter-widgets/controls",
            "_view_module_version": "1.5.0",
            "_view_name": "HBoxView",
            "box_style": "",
            "children": [
              "IPY_MODEL_fa84906152014960bd44defde2b23b5e",
              "IPY_MODEL_8b305b11c0d64e4196511d3f7e083d7d",
              "IPY_MODEL_7f3b3b8a9f224960ae7a75d66350d756"
            ],
            "layout": "IPY_MODEL_39072fdc670f442c92e5a7036f4c9226"
          }
        },
        "fa84906152014960bd44defde2b23b5e": {
          "model_module": "@jupyter-widgets/controls",
          "model_name": "HTMLModel",
          "model_module_version": "1.5.0",
          "state": {
            "_dom_classes": [],
            "_model_module": "@jupyter-widgets/controls",
            "_model_module_version": "1.5.0",
            "_model_name": "HTMLModel",
            "_view_count": null,
            "_view_module": "@jupyter-widgets/controls",
            "_view_module_version": "1.5.0",
            "_view_name": "HTMLView",
            "description": "",
            "description_tooltip": null,
            "layout": "IPY_MODEL_7dc2b29673b148d3964d2371142bee5b",
            "placeholder": "​",
            "style": "IPY_MODEL_8f56b266805f42ab94656e5f56559bb6",
            "value": "config.json: 100%"
          }
        },
        "8b305b11c0d64e4196511d3f7e083d7d": {
          "model_module": "@jupyter-widgets/controls",
          "model_name": "FloatProgressModel",
          "model_module_version": "1.5.0",
          "state": {
            "_dom_classes": [],
            "_model_module": "@jupyter-widgets/controls",
            "_model_module_version": "1.5.0",
            "_model_name": "FloatProgressModel",
            "_view_count": null,
            "_view_module": "@jupyter-widgets/controls",
            "_view_module_version": "1.5.0",
            "_view_name": "ProgressView",
            "bar_style": "success",
            "description": "",
            "description_tooltip": null,
            "layout": "IPY_MODEL_7bddfa6d435843caa711273763637b12",
            "max": 929,
            "min": 0,
            "orientation": "horizontal",
            "style": "IPY_MODEL_f50fa173dd394fca84cc832ead00b90a",
            "value": 929
          }
        },
        "7f3b3b8a9f224960ae7a75d66350d756": {
          "model_module": "@jupyter-widgets/controls",
          "model_name": "HTMLModel",
          "model_module_version": "1.5.0",
          "state": {
            "_dom_classes": [],
            "_model_module": "@jupyter-widgets/controls",
            "_model_module_version": "1.5.0",
            "_model_name": "HTMLModel",
            "_view_count": null,
            "_view_module": "@jupyter-widgets/controls",
            "_view_module_version": "1.5.0",
            "_view_name": "HTMLView",
            "description": "",
            "description_tooltip": null,
            "layout": "IPY_MODEL_9ac3d5288e2d4d3dad19ceb4ddf57110",
            "placeholder": "​",
            "style": "IPY_MODEL_c6036a7a06c6445aa318629604b2a05b",
            "value": " 929/929 [00:00&lt;00:00, 81.3kB/s]"
          }
        },
        "39072fdc670f442c92e5a7036f4c9226": {
          "model_module": "@jupyter-widgets/base",
          "model_name": "LayoutModel",
          "model_module_version": "1.2.0",
          "state": {
            "_model_module": "@jupyter-widgets/base",
            "_model_module_version": "1.2.0",
            "_model_name": "LayoutModel",
            "_view_count": null,
            "_view_module": "@jupyter-widgets/base",
            "_view_module_version": "1.2.0",
            "_view_name": "LayoutView",
            "align_content": null,
            "align_items": null,
            "align_self": null,
            "border": null,
            "bottom": null,
            "display": null,
            "flex": null,
            "flex_flow": null,
            "grid_area": null,
            "grid_auto_columns": null,
            "grid_auto_flow": null,
            "grid_auto_rows": null,
            "grid_column": null,
            "grid_gap": null,
            "grid_row": null,
            "grid_template_areas": null,
            "grid_template_columns": null,
            "grid_template_rows": null,
            "height": null,
            "justify_content": null,
            "justify_items": null,
            "left": null,
            "margin": null,
            "max_height": null,
            "max_width": null,
            "min_height": null,
            "min_width": null,
            "object_fit": null,
            "object_position": null,
            "order": null,
            "overflow": null,
            "overflow_x": null,
            "overflow_y": null,
            "padding": null,
            "right": null,
            "top": null,
            "visibility": null,
            "width": null
          }
        },
        "7dc2b29673b148d3964d2371142bee5b": {
          "model_module": "@jupyter-widgets/base",
          "model_name": "LayoutModel",
          "model_module_version": "1.2.0",
          "state": {
            "_model_module": "@jupyter-widgets/base",
            "_model_module_version": "1.2.0",
            "_model_name": "LayoutModel",
            "_view_count": null,
            "_view_module": "@jupyter-widgets/base",
            "_view_module_version": "1.2.0",
            "_view_name": "LayoutView",
            "align_content": null,
            "align_items": null,
            "align_self": null,
            "border": null,
            "bottom": null,
            "display": null,
            "flex": null,
            "flex_flow": null,
            "grid_area": null,
            "grid_auto_columns": null,
            "grid_auto_flow": null,
            "grid_auto_rows": null,
            "grid_column": null,
            "grid_gap": null,
            "grid_row": null,
            "grid_template_areas": null,
            "grid_template_columns": null,
            "grid_template_rows": null,
            "height": null,
            "justify_content": null,
            "justify_items": null,
            "left": null,
            "margin": null,
            "max_height": null,
            "max_width": null,
            "min_height": null,
            "min_width": null,
            "object_fit": null,
            "object_position": null,
            "order": null,
            "overflow": null,
            "overflow_x": null,
            "overflow_y": null,
            "padding": null,
            "right": null,
            "top": null,
            "visibility": null,
            "width": null
          }
        },
        "8f56b266805f42ab94656e5f56559bb6": {
          "model_module": "@jupyter-widgets/controls",
          "model_name": "DescriptionStyleModel",
          "model_module_version": "1.5.0",
          "state": {
            "_model_module": "@jupyter-widgets/controls",
            "_model_module_version": "1.5.0",
            "_model_name": "DescriptionStyleModel",
            "_view_count": null,
            "_view_module": "@jupyter-widgets/base",
            "_view_module_version": "1.2.0",
            "_view_name": "StyleView",
            "description_width": ""
          }
        },
        "7bddfa6d435843caa711273763637b12": {
          "model_module": "@jupyter-widgets/base",
          "model_name": "LayoutModel",
          "model_module_version": "1.2.0",
          "state": {
            "_model_module": "@jupyter-widgets/base",
            "_model_module_version": "1.2.0",
            "_model_name": "LayoutModel",
            "_view_count": null,
            "_view_module": "@jupyter-widgets/base",
            "_view_module_version": "1.2.0",
            "_view_name": "LayoutView",
            "align_content": null,
            "align_items": null,
            "align_self": null,
            "border": null,
            "bottom": null,
            "display": null,
            "flex": null,
            "flex_flow": null,
            "grid_area": null,
            "grid_auto_columns": null,
            "grid_auto_flow": null,
            "grid_auto_rows": null,
            "grid_column": null,
            "grid_gap": null,
            "grid_row": null,
            "grid_template_areas": null,
            "grid_template_columns": null,
            "grid_template_rows": null,
            "height": null,
            "justify_content": null,
            "justify_items": null,
            "left": null,
            "margin": null,
            "max_height": null,
            "max_width": null,
            "min_height": null,
            "min_width": null,
            "object_fit": null,
            "object_position": null,
            "order": null,
            "overflow": null,
            "overflow_x": null,
            "overflow_y": null,
            "padding": null,
            "right": null,
            "top": null,
            "visibility": null,
            "width": null
          }
        },
        "f50fa173dd394fca84cc832ead00b90a": {
          "model_module": "@jupyter-widgets/controls",
          "model_name": "ProgressStyleModel",
          "model_module_version": "1.5.0",
          "state": {
            "_model_module": "@jupyter-widgets/controls",
            "_model_module_version": "1.5.0",
            "_model_name": "ProgressStyleModel",
            "_view_count": null,
            "_view_module": "@jupyter-widgets/base",
            "_view_module_version": "1.2.0",
            "_view_name": "StyleView",
            "bar_color": null,
            "description_width": ""
          }
        },
        "9ac3d5288e2d4d3dad19ceb4ddf57110": {
          "model_module": "@jupyter-widgets/base",
          "model_name": "LayoutModel",
          "model_module_version": "1.2.0",
          "state": {
            "_model_module": "@jupyter-widgets/base",
            "_model_module_version": "1.2.0",
            "_model_name": "LayoutModel",
            "_view_count": null,
            "_view_module": "@jupyter-widgets/base",
            "_view_module_version": "1.2.0",
            "_view_name": "LayoutView",
            "align_content": null,
            "align_items": null,
            "align_self": null,
            "border": null,
            "bottom": null,
            "display": null,
            "flex": null,
            "flex_flow": null,
            "grid_area": null,
            "grid_auto_columns": null,
            "grid_auto_flow": null,
            "grid_auto_rows": null,
            "grid_column": null,
            "grid_gap": null,
            "grid_row": null,
            "grid_template_areas": null,
            "grid_template_columns": null,
            "grid_template_rows": null,
            "height": null,
            "justify_content": null,
            "justify_items": null,
            "left": null,
            "margin": null,
            "max_height": null,
            "max_width": null,
            "min_height": null,
            "min_width": null,
            "object_fit": null,
            "object_position": null,
            "order": null,
            "overflow": null,
            "overflow_x": null,
            "overflow_y": null,
            "padding": null,
            "right": null,
            "top": null,
            "visibility": null,
            "width": null
          }
        },
        "c6036a7a06c6445aa318629604b2a05b": {
          "model_module": "@jupyter-widgets/controls",
          "model_name": "DescriptionStyleModel",
          "model_module_version": "1.5.0",
          "state": {
            "_model_module": "@jupyter-widgets/controls",
            "_model_module_version": "1.5.0",
            "_model_name": "DescriptionStyleModel",
            "_view_count": null,
            "_view_module": "@jupyter-widgets/base",
            "_view_module_version": "1.2.0",
            "_view_name": "StyleView",
            "description_width": ""
          }
        },
        "1764c5b825394bbb8cca8668976b77ba": {
          "model_module": "@jupyter-widgets/controls",
          "model_name": "HBoxModel",
          "model_module_version": "1.5.0",
          "state": {
            "_dom_classes": [],
            "_model_module": "@jupyter-widgets/controls",
            "_model_module_version": "1.5.0",
            "_model_name": "HBoxModel",
            "_view_count": null,
            "_view_module": "@jupyter-widgets/controls",
            "_view_module_version": "1.5.0",
            "_view_name": "HBoxView",
            "box_style": "",
            "children": [
              "IPY_MODEL_19ec6c1a3fcd49bc99994c6bf6493f01",
              "IPY_MODEL_9ffb2dad4acb4e2087be438e6a72c899",
              "IPY_MODEL_1a9f2912a4eb426388e5d4237689662d"
            ],
            "layout": "IPY_MODEL_bed99c6e0efc495c8df97e9bcb1c0255"
          }
        },
        "19ec6c1a3fcd49bc99994c6bf6493f01": {
          "model_module": "@jupyter-widgets/controls",
          "model_name": "HTMLModel",
          "model_module_version": "1.5.0",
          "state": {
            "_dom_classes": [],
            "_model_module": "@jupyter-widgets/controls",
            "_model_module_version": "1.5.0",
            "_model_name": "HTMLModel",
            "_view_count": null,
            "_view_module": "@jupyter-widgets/controls",
            "_view_module_version": "1.5.0",
            "_view_name": "HTMLView",
            "description": "",
            "description_tooltip": null,
            "layout": "IPY_MODEL_767db3cd1f4b4295b224c4987cd67003",
            "placeholder": "​",
            "style": "IPY_MODEL_2363513d62334dbf8d74911b685dddff",
            "value": "vocab.json: 100%"
          }
        },
        "9ffb2dad4acb4e2087be438e6a72c899": {
          "model_module": "@jupyter-widgets/controls",
          "model_name": "FloatProgressModel",
          "model_module_version": "1.5.0",
          "state": {
            "_dom_classes": [],
            "_model_module": "@jupyter-widgets/controls",
            "_model_module_version": "1.5.0",
            "_model_name": "FloatProgressModel",
            "_view_count": null,
            "_view_module": "@jupyter-widgets/controls",
            "_view_module_version": "1.5.0",
            "_view_name": "ProgressView",
            "bar_style": "success",
            "description": "",
            "description_tooltip": null,
            "layout": "IPY_MODEL_d696abb003394dfa8edc0a2559abf745",
            "max": 898822,
            "min": 0,
            "orientation": "horizontal",
            "style": "IPY_MODEL_c9df52092a8542e8b6c4bc0ff9e98ef0",
            "value": 898822
          }
        },
        "1a9f2912a4eb426388e5d4237689662d": {
          "model_module": "@jupyter-widgets/controls",
          "model_name": "HTMLModel",
          "model_module_version": "1.5.0",
          "state": {
            "_dom_classes": [],
            "_model_module": "@jupyter-widgets/controls",
            "_model_module_version": "1.5.0",
            "_model_name": "HTMLModel",
            "_view_count": null,
            "_view_module": "@jupyter-widgets/controls",
            "_view_module_version": "1.5.0",
            "_view_name": "HTMLView",
            "description": "",
            "description_tooltip": null,
            "layout": "IPY_MODEL_caf4bf798b084f35b051f42232b7a3b7",
            "placeholder": "​",
            "style": "IPY_MODEL_0275c61367e04c6da5545d239507024c",
            "value": " 899k/899k [00:00&lt;00:00, 4.10MB/s]"
          }
        },
        "bed99c6e0efc495c8df97e9bcb1c0255": {
          "model_module": "@jupyter-widgets/base",
          "model_name": "LayoutModel",
          "model_module_version": "1.2.0",
          "state": {
            "_model_module": "@jupyter-widgets/base",
            "_model_module_version": "1.2.0",
            "_model_name": "LayoutModel",
            "_view_count": null,
            "_view_module": "@jupyter-widgets/base",
            "_view_module_version": "1.2.0",
            "_view_name": "LayoutView",
            "align_content": null,
            "align_items": null,
            "align_self": null,
            "border": null,
            "bottom": null,
            "display": null,
            "flex": null,
            "flex_flow": null,
            "grid_area": null,
            "grid_auto_columns": null,
            "grid_auto_flow": null,
            "grid_auto_rows": null,
            "grid_column": null,
            "grid_gap": null,
            "grid_row": null,
            "grid_template_areas": null,
            "grid_template_columns": null,
            "grid_template_rows": null,
            "height": null,
            "justify_content": null,
            "justify_items": null,
            "left": null,
            "margin": null,
            "max_height": null,
            "max_width": null,
            "min_height": null,
            "min_width": null,
            "object_fit": null,
            "object_position": null,
            "order": null,
            "overflow": null,
            "overflow_x": null,
            "overflow_y": null,
            "padding": null,
            "right": null,
            "top": null,
            "visibility": null,
            "width": null
          }
        },
        "767db3cd1f4b4295b224c4987cd67003": {
          "model_module": "@jupyter-widgets/base",
          "model_name": "LayoutModel",
          "model_module_version": "1.2.0",
          "state": {
            "_model_module": "@jupyter-widgets/base",
            "_model_module_version": "1.2.0",
            "_model_name": "LayoutModel",
            "_view_count": null,
            "_view_module": "@jupyter-widgets/base",
            "_view_module_version": "1.2.0",
            "_view_name": "LayoutView",
            "align_content": null,
            "align_items": null,
            "align_self": null,
            "border": null,
            "bottom": null,
            "display": null,
            "flex": null,
            "flex_flow": null,
            "grid_area": null,
            "grid_auto_columns": null,
            "grid_auto_flow": null,
            "grid_auto_rows": null,
            "grid_column": null,
            "grid_gap": null,
            "grid_row": null,
            "grid_template_areas": null,
            "grid_template_columns": null,
            "grid_template_rows": null,
            "height": null,
            "justify_content": null,
            "justify_items": null,
            "left": null,
            "margin": null,
            "max_height": null,
            "max_width": null,
            "min_height": null,
            "min_width": null,
            "object_fit": null,
            "object_position": null,
            "order": null,
            "overflow": null,
            "overflow_x": null,
            "overflow_y": null,
            "padding": null,
            "right": null,
            "top": null,
            "visibility": null,
            "width": null
          }
        },
        "2363513d62334dbf8d74911b685dddff": {
          "model_module": "@jupyter-widgets/controls",
          "model_name": "DescriptionStyleModel",
          "model_module_version": "1.5.0",
          "state": {
            "_model_module": "@jupyter-widgets/controls",
            "_model_module_version": "1.5.0",
            "_model_name": "DescriptionStyleModel",
            "_view_count": null,
            "_view_module": "@jupyter-widgets/base",
            "_view_module_version": "1.2.0",
            "_view_name": "StyleView",
            "description_width": ""
          }
        },
        "d696abb003394dfa8edc0a2559abf745": {
          "model_module": "@jupyter-widgets/base",
          "model_name": "LayoutModel",
          "model_module_version": "1.2.0",
          "state": {
            "_model_module": "@jupyter-widgets/base",
            "_model_module_version": "1.2.0",
            "_model_name": "LayoutModel",
            "_view_count": null,
            "_view_module": "@jupyter-widgets/base",
            "_view_module_version": "1.2.0",
            "_view_name": "LayoutView",
            "align_content": null,
            "align_items": null,
            "align_self": null,
            "border": null,
            "bottom": null,
            "display": null,
            "flex": null,
            "flex_flow": null,
            "grid_area": null,
            "grid_auto_columns": null,
            "grid_auto_flow": null,
            "grid_auto_rows": null,
            "grid_column": null,
            "grid_gap": null,
            "grid_row": null,
            "grid_template_areas": null,
            "grid_template_columns": null,
            "grid_template_rows": null,
            "height": null,
            "justify_content": null,
            "justify_items": null,
            "left": null,
            "margin": null,
            "max_height": null,
            "max_width": null,
            "min_height": null,
            "min_width": null,
            "object_fit": null,
            "object_position": null,
            "order": null,
            "overflow": null,
            "overflow_x": null,
            "overflow_y": null,
            "padding": null,
            "right": null,
            "top": null,
            "visibility": null,
            "width": null
          }
        },
        "c9df52092a8542e8b6c4bc0ff9e98ef0": {
          "model_module": "@jupyter-widgets/controls",
          "model_name": "ProgressStyleModel",
          "model_module_version": "1.5.0",
          "state": {
            "_model_module": "@jupyter-widgets/controls",
            "_model_module_version": "1.5.0",
            "_model_name": "ProgressStyleModel",
            "_view_count": null,
            "_view_module": "@jupyter-widgets/base",
            "_view_module_version": "1.2.0",
            "_view_name": "StyleView",
            "bar_color": null,
            "description_width": ""
          }
        },
        "caf4bf798b084f35b051f42232b7a3b7": {
          "model_module": "@jupyter-widgets/base",
          "model_name": "LayoutModel",
          "model_module_version": "1.2.0",
          "state": {
            "_model_module": "@jupyter-widgets/base",
            "_model_module_version": "1.2.0",
            "_model_name": "LayoutModel",
            "_view_count": null,
            "_view_module": "@jupyter-widgets/base",
            "_view_module_version": "1.2.0",
            "_view_name": "LayoutView",
            "align_content": null,
            "align_items": null,
            "align_self": null,
            "border": null,
            "bottom": null,
            "display": null,
            "flex": null,
            "flex_flow": null,
            "grid_area": null,
            "grid_auto_columns": null,
            "grid_auto_flow": null,
            "grid_auto_rows": null,
            "grid_column": null,
            "grid_gap": null,
            "grid_row": null,
            "grid_template_areas": null,
            "grid_template_columns": null,
            "grid_template_rows": null,
            "height": null,
            "justify_content": null,
            "justify_items": null,
            "left": null,
            "margin": null,
            "max_height": null,
            "max_width": null,
            "min_height": null,
            "min_width": null,
            "object_fit": null,
            "object_position": null,
            "order": null,
            "overflow": null,
            "overflow_x": null,
            "overflow_y": null,
            "padding": null,
            "right": null,
            "top": null,
            "visibility": null,
            "width": null
          }
        },
        "0275c61367e04c6da5545d239507024c": {
          "model_module": "@jupyter-widgets/controls",
          "model_name": "DescriptionStyleModel",
          "model_module_version": "1.5.0",
          "state": {
            "_model_module": "@jupyter-widgets/controls",
            "_model_module_version": "1.5.0",
            "_model_name": "DescriptionStyleModel",
            "_view_count": null,
            "_view_module": "@jupyter-widgets/base",
            "_view_module_version": "1.2.0",
            "_view_name": "StyleView",
            "description_width": ""
          }
        },
        "6953b76093884401af7eb8ba1ac2bd76": {
          "model_module": "@jupyter-widgets/controls",
          "model_name": "HBoxModel",
          "model_module_version": "1.5.0",
          "state": {
            "_dom_classes": [],
            "_model_module": "@jupyter-widgets/controls",
            "_model_module_version": "1.5.0",
            "_model_name": "HBoxModel",
            "_view_count": null,
            "_view_module": "@jupyter-widgets/controls",
            "_view_module_version": "1.5.0",
            "_view_name": "HBoxView",
            "box_style": "",
            "children": [
              "IPY_MODEL_6858ce344daa488a8afa55a54ba10bf6",
              "IPY_MODEL_2f90e16610e9459aa86949173ef26c2b",
              "IPY_MODEL_b4d58f2bdb78463fbfdc8a20707731a7"
            ],
            "layout": "IPY_MODEL_0bdf7e13affd43e3a3ba462561374255"
          }
        },
        "6858ce344daa488a8afa55a54ba10bf6": {
          "model_module": "@jupyter-widgets/controls",
          "model_name": "HTMLModel",
          "model_module_version": "1.5.0",
          "state": {
            "_dom_classes": [],
            "_model_module": "@jupyter-widgets/controls",
            "_model_module_version": "1.5.0",
            "_model_name": "HTMLModel",
            "_view_count": null,
            "_view_module": "@jupyter-widgets/controls",
            "_view_module_version": "1.5.0",
            "_view_name": "HTMLView",
            "description": "",
            "description_tooltip": null,
            "layout": "IPY_MODEL_9155d0d1cba145209902509d43b806e0",
            "placeholder": "​",
            "style": "IPY_MODEL_2214e65cf3734a209f680671e504b1c7",
            "value": "merges.txt: 100%"
          }
        },
        "2f90e16610e9459aa86949173ef26c2b": {
          "model_module": "@jupyter-widgets/controls",
          "model_name": "FloatProgressModel",
          "model_module_version": "1.5.0",
          "state": {
            "_dom_classes": [],
            "_model_module": "@jupyter-widgets/controls",
            "_model_module_version": "1.5.0",
            "_model_name": "FloatProgressModel",
            "_view_count": null,
            "_view_module": "@jupyter-widgets/controls",
            "_view_module_version": "1.5.0",
            "_view_name": "ProgressView",
            "bar_style": "success",
            "description": "",
            "description_tooltip": null,
            "layout": "IPY_MODEL_1a0df683d5124e0daf57efb19c293f3e",
            "max": 456318,
            "min": 0,
            "orientation": "horizontal",
            "style": "IPY_MODEL_191c0490411f476688306d5690d1c488",
            "value": 456318
          }
        },
        "b4d58f2bdb78463fbfdc8a20707731a7": {
          "model_module": "@jupyter-widgets/controls",
          "model_name": "HTMLModel",
          "model_module_version": "1.5.0",
          "state": {
            "_dom_classes": [],
            "_model_module": "@jupyter-widgets/controls",
            "_model_module_version": "1.5.0",
            "_model_name": "HTMLModel",
            "_view_count": null,
            "_view_module": "@jupyter-widgets/controls",
            "_view_module_version": "1.5.0",
            "_view_name": "HTMLView",
            "description": "",
            "description_tooltip": null,
            "layout": "IPY_MODEL_9108248b7c044727bbfb2165b4e9f5f3",
            "placeholder": "​",
            "style": "IPY_MODEL_d82bff9bd3da4f7e85dfd5ed8163c00f",
            "value": " 456k/456k [00:00&lt;00:00, 30.9MB/s]"
          }
        },
        "0bdf7e13affd43e3a3ba462561374255": {
          "model_module": "@jupyter-widgets/base",
          "model_name": "LayoutModel",
          "model_module_version": "1.2.0",
          "state": {
            "_model_module": "@jupyter-widgets/base",
            "_model_module_version": "1.2.0",
            "_model_name": "LayoutModel",
            "_view_count": null,
            "_view_module": "@jupyter-widgets/base",
            "_view_module_version": "1.2.0",
            "_view_name": "LayoutView",
            "align_content": null,
            "align_items": null,
            "align_self": null,
            "border": null,
            "bottom": null,
            "display": null,
            "flex": null,
            "flex_flow": null,
            "grid_area": null,
            "grid_auto_columns": null,
            "grid_auto_flow": null,
            "grid_auto_rows": null,
            "grid_column": null,
            "grid_gap": null,
            "grid_row": null,
            "grid_template_areas": null,
            "grid_template_columns": null,
            "grid_template_rows": null,
            "height": null,
            "justify_content": null,
            "justify_items": null,
            "left": null,
            "margin": null,
            "max_height": null,
            "max_width": null,
            "min_height": null,
            "min_width": null,
            "object_fit": null,
            "object_position": null,
            "order": null,
            "overflow": null,
            "overflow_x": null,
            "overflow_y": null,
            "padding": null,
            "right": null,
            "top": null,
            "visibility": null,
            "width": null
          }
        },
        "9155d0d1cba145209902509d43b806e0": {
          "model_module": "@jupyter-widgets/base",
          "model_name": "LayoutModel",
          "model_module_version": "1.2.0",
          "state": {
            "_model_module": "@jupyter-widgets/base",
            "_model_module_version": "1.2.0",
            "_model_name": "LayoutModel",
            "_view_count": null,
            "_view_module": "@jupyter-widgets/base",
            "_view_module_version": "1.2.0",
            "_view_name": "LayoutView",
            "align_content": null,
            "align_items": null,
            "align_self": null,
            "border": null,
            "bottom": null,
            "display": null,
            "flex": null,
            "flex_flow": null,
            "grid_area": null,
            "grid_auto_columns": null,
            "grid_auto_flow": null,
            "grid_auto_rows": null,
            "grid_column": null,
            "grid_gap": null,
            "grid_row": null,
            "grid_template_areas": null,
            "grid_template_columns": null,
            "grid_template_rows": null,
            "height": null,
            "justify_content": null,
            "justify_items": null,
            "left": null,
            "margin": null,
            "max_height": null,
            "max_width": null,
            "min_height": null,
            "min_width": null,
            "object_fit": null,
            "object_position": null,
            "order": null,
            "overflow": null,
            "overflow_x": null,
            "overflow_y": null,
            "padding": null,
            "right": null,
            "top": null,
            "visibility": null,
            "width": null
          }
        },
        "2214e65cf3734a209f680671e504b1c7": {
          "model_module": "@jupyter-widgets/controls",
          "model_name": "DescriptionStyleModel",
          "model_module_version": "1.5.0",
          "state": {
            "_model_module": "@jupyter-widgets/controls",
            "_model_module_version": "1.5.0",
            "_model_name": "DescriptionStyleModel",
            "_view_count": null,
            "_view_module": "@jupyter-widgets/base",
            "_view_module_version": "1.2.0",
            "_view_name": "StyleView",
            "description_width": ""
          }
        },
        "1a0df683d5124e0daf57efb19c293f3e": {
          "model_module": "@jupyter-widgets/base",
          "model_name": "LayoutModel",
          "model_module_version": "1.2.0",
          "state": {
            "_model_module": "@jupyter-widgets/base",
            "_model_module_version": "1.2.0",
            "_model_name": "LayoutModel",
            "_view_count": null,
            "_view_module": "@jupyter-widgets/base",
            "_view_module_version": "1.2.0",
            "_view_name": "LayoutView",
            "align_content": null,
            "align_items": null,
            "align_self": null,
            "border": null,
            "bottom": null,
            "display": null,
            "flex": null,
            "flex_flow": null,
            "grid_area": null,
            "grid_auto_columns": null,
            "grid_auto_flow": null,
            "grid_auto_rows": null,
            "grid_column": null,
            "grid_gap": null,
            "grid_row": null,
            "grid_template_areas": null,
            "grid_template_columns": null,
            "grid_template_rows": null,
            "height": null,
            "justify_content": null,
            "justify_items": null,
            "left": null,
            "margin": null,
            "max_height": null,
            "max_width": null,
            "min_height": null,
            "min_width": null,
            "object_fit": null,
            "object_position": null,
            "order": null,
            "overflow": null,
            "overflow_x": null,
            "overflow_y": null,
            "padding": null,
            "right": null,
            "top": null,
            "visibility": null,
            "width": null
          }
        },
        "191c0490411f476688306d5690d1c488": {
          "model_module": "@jupyter-widgets/controls",
          "model_name": "ProgressStyleModel",
          "model_module_version": "1.5.0",
          "state": {
            "_model_module": "@jupyter-widgets/controls",
            "_model_module_version": "1.5.0",
            "_model_name": "ProgressStyleModel",
            "_view_count": null,
            "_view_module": "@jupyter-widgets/base",
            "_view_module_version": "1.2.0",
            "_view_name": "StyleView",
            "bar_color": null,
            "description_width": ""
          }
        },
        "9108248b7c044727bbfb2165b4e9f5f3": {
          "model_module": "@jupyter-widgets/base",
          "model_name": "LayoutModel",
          "model_module_version": "1.2.0",
          "state": {
            "_model_module": "@jupyter-widgets/base",
            "_model_module_version": "1.2.0",
            "_model_name": "LayoutModel",
            "_view_count": null,
            "_view_module": "@jupyter-widgets/base",
            "_view_module_version": "1.2.0",
            "_view_name": "LayoutView",
            "align_content": null,
            "align_items": null,
            "align_self": null,
            "border": null,
            "bottom": null,
            "display": null,
            "flex": null,
            "flex_flow": null,
            "grid_area": null,
            "grid_auto_columns": null,
            "grid_auto_flow": null,
            "grid_auto_rows": null,
            "grid_column": null,
            "grid_gap": null,
            "grid_row": null,
            "grid_template_areas": null,
            "grid_template_columns": null,
            "grid_template_rows": null,
            "height": null,
            "justify_content": null,
            "justify_items": null,
            "left": null,
            "margin": null,
            "max_height": null,
            "max_width": null,
            "min_height": null,
            "min_width": null,
            "object_fit": null,
            "object_position": null,
            "order": null,
            "overflow": null,
            "overflow_x": null,
            "overflow_y": null,
            "padding": null,
            "right": null,
            "top": null,
            "visibility": null,
            "width": null
          }
        },
        "d82bff9bd3da4f7e85dfd5ed8163c00f": {
          "model_module": "@jupyter-widgets/controls",
          "model_name": "DescriptionStyleModel",
          "model_module_version": "1.5.0",
          "state": {
            "_model_module": "@jupyter-widgets/controls",
            "_model_module_version": "1.5.0",
            "_model_name": "DescriptionStyleModel",
            "_view_count": null,
            "_view_module": "@jupyter-widgets/base",
            "_view_module_version": "1.2.0",
            "_view_name": "StyleView",
            "description_width": ""
          }
        },
        "b2fb0c132c8f42bf8c162689692e5e2c": {
          "model_module": "@jupyter-widgets/controls",
          "model_name": "HBoxModel",
          "model_module_version": "1.5.0",
          "state": {
            "_dom_classes": [],
            "_model_module": "@jupyter-widgets/controls",
            "_model_module_version": "1.5.0",
            "_model_name": "HBoxModel",
            "_view_count": null,
            "_view_module": "@jupyter-widgets/controls",
            "_view_module_version": "1.5.0",
            "_view_name": "HBoxView",
            "box_style": "",
            "children": [
              "IPY_MODEL_82f787628f5c4d83856156f62366b754",
              "IPY_MODEL_707af242b5204bc9b861eb91bc86099e",
              "IPY_MODEL_786bc1fce4e04129ae6f99797fa29c4e"
            ],
            "layout": "IPY_MODEL_842344c6776949e9923a27cf0401827e"
          }
        },
        "82f787628f5c4d83856156f62366b754": {
          "model_module": "@jupyter-widgets/controls",
          "model_name": "HTMLModel",
          "model_module_version": "1.5.0",
          "state": {
            "_dom_classes": [],
            "_model_module": "@jupyter-widgets/controls",
            "_model_module_version": "1.5.0",
            "_model_name": "HTMLModel",
            "_view_count": null,
            "_view_module": "@jupyter-widgets/controls",
            "_view_module_version": "1.5.0",
            "_view_name": "HTMLView",
            "description": "",
            "description_tooltip": null,
            "layout": "IPY_MODEL_6474974fc6fd423ba43784780f004b1a",
            "placeholder": "​",
            "style": "IPY_MODEL_bbb89bd2ebd64d04a8a20b156d8f9c51",
            "value": "special_tokens_map.json: 100%"
          }
        },
        "707af242b5204bc9b861eb91bc86099e": {
          "model_module": "@jupyter-widgets/controls",
          "model_name": "FloatProgressModel",
          "model_module_version": "1.5.0",
          "state": {
            "_dom_classes": [],
            "_model_module": "@jupyter-widgets/controls",
            "_model_module_version": "1.5.0",
            "_model_name": "FloatProgressModel",
            "_view_count": null,
            "_view_module": "@jupyter-widgets/controls",
            "_view_module_version": "1.5.0",
            "_view_name": "ProgressView",
            "bar_style": "success",
            "description": "",
            "description_tooltip": null,
            "layout": "IPY_MODEL_a87a963f1a6947f38e528d3ae10f735e",
            "max": 239,
            "min": 0,
            "orientation": "horizontal",
            "style": "IPY_MODEL_f6874f1fc47c4c8895b46b121d0a6ff5",
            "value": 239
          }
        },
        "786bc1fce4e04129ae6f99797fa29c4e": {
          "model_module": "@jupyter-widgets/controls",
          "model_name": "HTMLModel",
          "model_module_version": "1.5.0",
          "state": {
            "_dom_classes": [],
            "_model_module": "@jupyter-widgets/controls",
            "_model_module_version": "1.5.0",
            "_model_name": "HTMLModel",
            "_view_count": null,
            "_view_module": "@jupyter-widgets/controls",
            "_view_module_version": "1.5.0",
            "_view_name": "HTMLView",
            "description": "",
            "description_tooltip": null,
            "layout": "IPY_MODEL_43a3098192c94e10ba7a141c90a77603",
            "placeholder": "​",
            "style": "IPY_MODEL_5c5560aad2ff4c02b7e42e73c91bda26",
            "value": " 239/239 [00:00&lt;00:00, 21.8kB/s]"
          }
        },
        "842344c6776949e9923a27cf0401827e": {
          "model_module": "@jupyter-widgets/base",
          "model_name": "LayoutModel",
          "model_module_version": "1.2.0",
          "state": {
            "_model_module": "@jupyter-widgets/base",
            "_model_module_version": "1.2.0",
            "_model_name": "LayoutModel",
            "_view_count": null,
            "_view_module": "@jupyter-widgets/base",
            "_view_module_version": "1.2.0",
            "_view_name": "LayoutView",
            "align_content": null,
            "align_items": null,
            "align_self": null,
            "border": null,
            "bottom": null,
            "display": null,
            "flex": null,
            "flex_flow": null,
            "grid_area": null,
            "grid_auto_columns": null,
            "grid_auto_flow": null,
            "grid_auto_rows": null,
            "grid_column": null,
            "grid_gap": null,
            "grid_row": null,
            "grid_template_areas": null,
            "grid_template_columns": null,
            "grid_template_rows": null,
            "height": null,
            "justify_content": null,
            "justify_items": null,
            "left": null,
            "margin": null,
            "max_height": null,
            "max_width": null,
            "min_height": null,
            "min_width": null,
            "object_fit": null,
            "object_position": null,
            "order": null,
            "overflow": null,
            "overflow_x": null,
            "overflow_y": null,
            "padding": null,
            "right": null,
            "top": null,
            "visibility": null,
            "width": null
          }
        },
        "6474974fc6fd423ba43784780f004b1a": {
          "model_module": "@jupyter-widgets/base",
          "model_name": "LayoutModel",
          "model_module_version": "1.2.0",
          "state": {
            "_model_module": "@jupyter-widgets/base",
            "_model_module_version": "1.2.0",
            "_model_name": "LayoutModel",
            "_view_count": null,
            "_view_module": "@jupyter-widgets/base",
            "_view_module_version": "1.2.0",
            "_view_name": "LayoutView",
            "align_content": null,
            "align_items": null,
            "align_self": null,
            "border": null,
            "bottom": null,
            "display": null,
            "flex": null,
            "flex_flow": null,
            "grid_area": null,
            "grid_auto_columns": null,
            "grid_auto_flow": null,
            "grid_auto_rows": null,
            "grid_column": null,
            "grid_gap": null,
            "grid_row": null,
            "grid_template_areas": null,
            "grid_template_columns": null,
            "grid_template_rows": null,
            "height": null,
            "justify_content": null,
            "justify_items": null,
            "left": null,
            "margin": null,
            "max_height": null,
            "max_width": null,
            "min_height": null,
            "min_width": null,
            "object_fit": null,
            "object_position": null,
            "order": null,
            "overflow": null,
            "overflow_x": null,
            "overflow_y": null,
            "padding": null,
            "right": null,
            "top": null,
            "visibility": null,
            "width": null
          }
        },
        "bbb89bd2ebd64d04a8a20b156d8f9c51": {
          "model_module": "@jupyter-widgets/controls",
          "model_name": "DescriptionStyleModel",
          "model_module_version": "1.5.0",
          "state": {
            "_model_module": "@jupyter-widgets/controls",
            "_model_module_version": "1.5.0",
            "_model_name": "DescriptionStyleModel",
            "_view_count": null,
            "_view_module": "@jupyter-widgets/base",
            "_view_module_version": "1.2.0",
            "_view_name": "StyleView",
            "description_width": ""
          }
        },
        "a87a963f1a6947f38e528d3ae10f735e": {
          "model_module": "@jupyter-widgets/base",
          "model_name": "LayoutModel",
          "model_module_version": "1.2.0",
          "state": {
            "_model_module": "@jupyter-widgets/base",
            "_model_module_version": "1.2.0",
            "_model_name": "LayoutModel",
            "_view_count": null,
            "_view_module": "@jupyter-widgets/base",
            "_view_module_version": "1.2.0",
            "_view_name": "LayoutView",
            "align_content": null,
            "align_items": null,
            "align_self": null,
            "border": null,
            "bottom": null,
            "display": null,
            "flex": null,
            "flex_flow": null,
            "grid_area": null,
            "grid_auto_columns": null,
            "grid_auto_flow": null,
            "grid_auto_rows": null,
            "grid_column": null,
            "grid_gap": null,
            "grid_row": null,
            "grid_template_areas": null,
            "grid_template_columns": null,
            "grid_template_rows": null,
            "height": null,
            "justify_content": null,
            "justify_items": null,
            "left": null,
            "margin": null,
            "max_height": null,
            "max_width": null,
            "min_height": null,
            "min_width": null,
            "object_fit": null,
            "object_position": null,
            "order": null,
            "overflow": null,
            "overflow_x": null,
            "overflow_y": null,
            "padding": null,
            "right": null,
            "top": null,
            "visibility": null,
            "width": null
          }
        },
        "f6874f1fc47c4c8895b46b121d0a6ff5": {
          "model_module": "@jupyter-widgets/controls",
          "model_name": "ProgressStyleModel",
          "model_module_version": "1.5.0",
          "state": {
            "_model_module": "@jupyter-widgets/controls",
            "_model_module_version": "1.5.0",
            "_model_name": "ProgressStyleModel",
            "_view_count": null,
            "_view_module": "@jupyter-widgets/base",
            "_view_module_version": "1.2.0",
            "_view_name": "StyleView",
            "bar_color": null,
            "description_width": ""
          }
        },
        "43a3098192c94e10ba7a141c90a77603": {
          "model_module": "@jupyter-widgets/base",
          "model_name": "LayoutModel",
          "model_module_version": "1.2.0",
          "state": {
            "_model_module": "@jupyter-widgets/base",
            "_model_module_version": "1.2.0",
            "_model_name": "LayoutModel",
            "_view_count": null,
            "_view_module": "@jupyter-widgets/base",
            "_view_module_version": "1.2.0",
            "_view_name": "LayoutView",
            "align_content": null,
            "align_items": null,
            "align_self": null,
            "border": null,
            "bottom": null,
            "display": null,
            "flex": null,
            "flex_flow": null,
            "grid_area": null,
            "grid_auto_columns": null,
            "grid_auto_flow": null,
            "grid_auto_rows": null,
            "grid_column": null,
            "grid_gap": null,
            "grid_row": null,
            "grid_template_areas": null,
            "grid_template_columns": null,
            "grid_template_rows": null,
            "height": null,
            "justify_content": null,
            "justify_items": null,
            "left": null,
            "margin": null,
            "max_height": null,
            "max_width": null,
            "min_height": null,
            "min_width": null,
            "object_fit": null,
            "object_position": null,
            "order": null,
            "overflow": null,
            "overflow_x": null,
            "overflow_y": null,
            "padding": null,
            "right": null,
            "top": null,
            "visibility": null,
            "width": null
          }
        },
        "5c5560aad2ff4c02b7e42e73c91bda26": {
          "model_module": "@jupyter-widgets/controls",
          "model_name": "DescriptionStyleModel",
          "model_module_version": "1.5.0",
          "state": {
            "_model_module": "@jupyter-widgets/controls",
            "_model_module_version": "1.5.0",
            "_model_name": "DescriptionStyleModel",
            "_view_count": null,
            "_view_module": "@jupyter-widgets/base",
            "_view_module_version": "1.2.0",
            "_view_name": "StyleView",
            "description_width": ""
          }
        },
        "9cca980a9d60460486f43577edc788e4": {
          "model_module": "@jupyter-widgets/controls",
          "model_name": "HBoxModel",
          "model_module_version": "1.5.0",
          "state": {
            "_dom_classes": [],
            "_model_module": "@jupyter-widgets/controls",
            "_model_module_version": "1.5.0",
            "_model_name": "HBoxModel",
            "_view_count": null,
            "_view_module": "@jupyter-widgets/controls",
            "_view_module_version": "1.5.0",
            "_view_name": "HBoxView",
            "box_style": "",
            "children": [
              "IPY_MODEL_a83c37fce69f44349e36c9d6e2905255",
              "IPY_MODEL_86dd46d9c63743029404b37717ed3dda",
              "IPY_MODEL_169ec63b50764e71991f0bb82998d3b6"
            ],
            "layout": "IPY_MODEL_ccca41a4e48d4a59af77dc8432c443cd"
          }
        },
        "a83c37fce69f44349e36c9d6e2905255": {
          "model_module": "@jupyter-widgets/controls",
          "model_name": "HTMLModel",
          "model_module_version": "1.5.0",
          "state": {
            "_dom_classes": [],
            "_model_module": "@jupyter-widgets/controls",
            "_model_module_version": "1.5.0",
            "_model_name": "HTMLModel",
            "_view_count": null,
            "_view_module": "@jupyter-widgets/controls",
            "_view_module_version": "1.5.0",
            "_view_name": "HTMLView",
            "description": "",
            "description_tooltip": null,
            "layout": "IPY_MODEL_ef42286e0872406dbf8983b28657cdd1",
            "placeholder": "​",
            "style": "IPY_MODEL_bb8c9b71ece2497db291423fee234851",
            "value": "pytorch_model.bin: 100%"
          }
        },
        "86dd46d9c63743029404b37717ed3dda": {
          "model_module": "@jupyter-widgets/controls",
          "model_name": "FloatProgressModel",
          "model_module_version": "1.5.0",
          "state": {
            "_dom_classes": [],
            "_model_module": "@jupyter-widgets/controls",
            "_model_module_version": "1.5.0",
            "_model_name": "FloatProgressModel",
            "_view_count": null,
            "_view_module": "@jupyter-widgets/controls",
            "_view_module_version": "1.5.0",
            "_view_name": "ProgressView",
            "bar_style": "success",
            "description": "",
            "description_tooltip": null,
            "layout": "IPY_MODEL_8c5af7436fb84b3680a1c4ad7ca38508",
            "max": 501045531,
            "min": 0,
            "orientation": "horizontal",
            "style": "IPY_MODEL_73917f1438a849b295d69b324cfc6677",
            "value": 501045531
          }
        },
        "169ec63b50764e71991f0bb82998d3b6": {
          "model_module": "@jupyter-widgets/controls",
          "model_name": "HTMLModel",
          "model_module_version": "1.5.0",
          "state": {
            "_dom_classes": [],
            "_model_module": "@jupyter-widgets/controls",
            "_model_module_version": "1.5.0",
            "_model_name": "HTMLModel",
            "_view_count": null,
            "_view_module": "@jupyter-widgets/controls",
            "_view_module_version": "1.5.0",
            "_view_name": "HTMLView",
            "description": "",
            "description_tooltip": null,
            "layout": "IPY_MODEL_617e3decdf44420682e69a5d784679d0",
            "placeholder": "​",
            "style": "IPY_MODEL_b156714761e547908140d8bfb4a9c94a",
            "value": " 501M/501M [00:01&lt;00:00, 511MB/s]"
          }
        },
        "ccca41a4e48d4a59af77dc8432c443cd": {
          "model_module": "@jupyter-widgets/base",
          "model_name": "LayoutModel",
          "model_module_version": "1.2.0",
          "state": {
            "_model_module": "@jupyter-widgets/base",
            "_model_module_version": "1.2.0",
            "_model_name": "LayoutModel",
            "_view_count": null,
            "_view_module": "@jupyter-widgets/base",
            "_view_module_version": "1.2.0",
            "_view_name": "LayoutView",
            "align_content": null,
            "align_items": null,
            "align_self": null,
            "border": null,
            "bottom": null,
            "display": null,
            "flex": null,
            "flex_flow": null,
            "grid_area": null,
            "grid_auto_columns": null,
            "grid_auto_flow": null,
            "grid_auto_rows": null,
            "grid_column": null,
            "grid_gap": null,
            "grid_row": null,
            "grid_template_areas": null,
            "grid_template_columns": null,
            "grid_template_rows": null,
            "height": null,
            "justify_content": null,
            "justify_items": null,
            "left": null,
            "margin": null,
            "max_height": null,
            "max_width": null,
            "min_height": null,
            "min_width": null,
            "object_fit": null,
            "object_position": null,
            "order": null,
            "overflow": null,
            "overflow_x": null,
            "overflow_y": null,
            "padding": null,
            "right": null,
            "top": null,
            "visibility": null,
            "width": null
          }
        },
        "ef42286e0872406dbf8983b28657cdd1": {
          "model_module": "@jupyter-widgets/base",
          "model_name": "LayoutModel",
          "model_module_version": "1.2.0",
          "state": {
            "_model_module": "@jupyter-widgets/base",
            "_model_module_version": "1.2.0",
            "_model_name": "LayoutModel",
            "_view_count": null,
            "_view_module": "@jupyter-widgets/base",
            "_view_module_version": "1.2.0",
            "_view_name": "LayoutView",
            "align_content": null,
            "align_items": null,
            "align_self": null,
            "border": null,
            "bottom": null,
            "display": null,
            "flex": null,
            "flex_flow": null,
            "grid_area": null,
            "grid_auto_columns": null,
            "grid_auto_flow": null,
            "grid_auto_rows": null,
            "grid_column": null,
            "grid_gap": null,
            "grid_row": null,
            "grid_template_areas": null,
            "grid_template_columns": null,
            "grid_template_rows": null,
            "height": null,
            "justify_content": null,
            "justify_items": null,
            "left": null,
            "margin": null,
            "max_height": null,
            "max_width": null,
            "min_height": null,
            "min_width": null,
            "object_fit": null,
            "object_position": null,
            "order": null,
            "overflow": null,
            "overflow_x": null,
            "overflow_y": null,
            "padding": null,
            "right": null,
            "top": null,
            "visibility": null,
            "width": null
          }
        },
        "bb8c9b71ece2497db291423fee234851": {
          "model_module": "@jupyter-widgets/controls",
          "model_name": "DescriptionStyleModel",
          "model_module_version": "1.5.0",
          "state": {
            "_model_module": "@jupyter-widgets/controls",
            "_model_module_version": "1.5.0",
            "_model_name": "DescriptionStyleModel",
            "_view_count": null,
            "_view_module": "@jupyter-widgets/base",
            "_view_module_version": "1.2.0",
            "_view_name": "StyleView",
            "description_width": ""
          }
        },
        "8c5af7436fb84b3680a1c4ad7ca38508": {
          "model_module": "@jupyter-widgets/base",
          "model_name": "LayoutModel",
          "model_module_version": "1.2.0",
          "state": {
            "_model_module": "@jupyter-widgets/base",
            "_model_module_version": "1.2.0",
            "_model_name": "LayoutModel",
            "_view_count": null,
            "_view_module": "@jupyter-widgets/base",
            "_view_module_version": "1.2.0",
            "_view_name": "LayoutView",
            "align_content": null,
            "align_items": null,
            "align_self": null,
            "border": null,
            "bottom": null,
            "display": null,
            "flex": null,
            "flex_flow": null,
            "grid_area": null,
            "grid_auto_columns": null,
            "grid_auto_flow": null,
            "grid_auto_rows": null,
            "grid_column": null,
            "grid_gap": null,
            "grid_row": null,
            "grid_template_areas": null,
            "grid_template_columns": null,
            "grid_template_rows": null,
            "height": null,
            "justify_content": null,
            "justify_items": null,
            "left": null,
            "margin": null,
            "max_height": null,
            "max_width": null,
            "min_height": null,
            "min_width": null,
            "object_fit": null,
            "object_position": null,
            "order": null,
            "overflow": null,
            "overflow_x": null,
            "overflow_y": null,
            "padding": null,
            "right": null,
            "top": null,
            "visibility": null,
            "width": null
          }
        },
        "73917f1438a849b295d69b324cfc6677": {
          "model_module": "@jupyter-widgets/controls",
          "model_name": "ProgressStyleModel",
          "model_module_version": "1.5.0",
          "state": {
            "_model_module": "@jupyter-widgets/controls",
            "_model_module_version": "1.5.0",
            "_model_name": "ProgressStyleModel",
            "_view_count": null,
            "_view_module": "@jupyter-widgets/base",
            "_view_module_version": "1.2.0",
            "_view_name": "StyleView",
            "bar_color": null,
            "description_width": ""
          }
        },
        "617e3decdf44420682e69a5d784679d0": {
          "model_module": "@jupyter-widgets/base",
          "model_name": "LayoutModel",
          "model_module_version": "1.2.0",
          "state": {
            "_model_module": "@jupyter-widgets/base",
            "_model_module_version": "1.2.0",
            "_model_name": "LayoutModel",
            "_view_count": null,
            "_view_module": "@jupyter-widgets/base",
            "_view_module_version": "1.2.0",
            "_view_name": "LayoutView",
            "align_content": null,
            "align_items": null,
            "align_self": null,
            "border": null,
            "bottom": null,
            "display": null,
            "flex": null,
            "flex_flow": null,
            "grid_area": null,
            "grid_auto_columns": null,
            "grid_auto_flow": null,
            "grid_auto_rows": null,
            "grid_column": null,
            "grid_gap": null,
            "grid_row": null,
            "grid_template_areas": null,
            "grid_template_columns": null,
            "grid_template_rows": null,
            "height": null,
            "justify_content": null,
            "justify_items": null,
            "left": null,
            "margin": null,
            "max_height": null,
            "max_width": null,
            "min_height": null,
            "min_width": null,
            "object_fit": null,
            "object_position": null,
            "order": null,
            "overflow": null,
            "overflow_x": null,
            "overflow_y": null,
            "padding": null,
            "right": null,
            "top": null,
            "visibility": null,
            "width": null
          }
        },
        "b156714761e547908140d8bfb4a9c94a": {
          "model_module": "@jupyter-widgets/controls",
          "model_name": "DescriptionStyleModel",
          "model_module_version": "1.5.0",
          "state": {
            "_model_module": "@jupyter-widgets/controls",
            "_model_module_version": "1.5.0",
            "_model_name": "DescriptionStyleModel",
            "_view_count": null,
            "_view_module": "@jupyter-widgets/base",
            "_view_module_version": "1.2.0",
            "_view_name": "StyleView",
            "description_width": ""
          }
        }
      }
    }
  },
  "cells": [
    {
      "cell_type": "code",
      "source": [
        "from google.colab import drive\n",
        "drive.mount('/content/drive')"
      ],
      "metadata": {
        "colab": {
          "base_uri": "https://localhost:8080/"
        },
        "id": "739tN1WF1HNv",
        "outputId": "c486fdc5-b1ff-4644-98f6-6c820cf528c0"
      },
      "execution_count": 1,
      "outputs": [
        {
          "output_type": "stream",
          "name": "stdout",
          "text": [
            "Mounted at /content/drive\n"
          ]
        }
      ]
    },
    {
      "cell_type": "code",
      "source": [
        "!pip install transformers torch"
      ],
      "metadata": {
        "colab": {
          "base_uri": "https://localhost:8080/"
        },
        "id": "syRWS_f6qMCe",
        "outputId": "29d76b29-f63d-413a-962f-2f0cf790b099"
      },
      "execution_count": 2,
      "outputs": [
        {
          "output_type": "stream",
          "name": "stdout",
          "text": [
            "Requirement already satisfied: transformers in /usr/local/lib/python3.10/dist-packages (4.41.1)\n",
            "Requirement already satisfied: torch in /usr/local/lib/python3.10/dist-packages (2.3.0+cu121)\n",
            "Requirement already satisfied: filelock in /usr/local/lib/python3.10/dist-packages (from transformers) (3.14.0)\n",
            "Requirement already satisfied: huggingface-hub<1.0,>=0.23.0 in /usr/local/lib/python3.10/dist-packages (from transformers) (0.23.2)\n",
            "Requirement already satisfied: numpy>=1.17 in /usr/local/lib/python3.10/dist-packages (from transformers) (1.25.2)\n",
            "Requirement already satisfied: packaging>=20.0 in /usr/local/lib/python3.10/dist-packages (from transformers) (24.0)\n",
            "Requirement already satisfied: pyyaml>=5.1 in /usr/local/lib/python3.10/dist-packages (from transformers) (6.0.1)\n",
            "Requirement already satisfied: regex!=2019.12.17 in /usr/local/lib/python3.10/dist-packages (from transformers) (2024.5.15)\n",
            "Requirement already satisfied: requests in /usr/local/lib/python3.10/dist-packages (from transformers) (2.31.0)\n",
            "Requirement already satisfied: tokenizers<0.20,>=0.19 in /usr/local/lib/python3.10/dist-packages (from transformers) (0.19.1)\n",
            "Requirement already satisfied: safetensors>=0.4.1 in /usr/local/lib/python3.10/dist-packages (from transformers) (0.4.3)\n",
            "Requirement already satisfied: tqdm>=4.27 in /usr/local/lib/python3.10/dist-packages (from transformers) (4.66.4)\n",
            "Requirement already satisfied: typing-extensions>=4.8.0 in /usr/local/lib/python3.10/dist-packages (from torch) (4.12.0)\n",
            "Requirement already satisfied: sympy in /usr/local/lib/python3.10/dist-packages (from torch) (1.12.1)\n",
            "Requirement already satisfied: networkx in /usr/local/lib/python3.10/dist-packages (from torch) (3.3)\n",
            "Requirement already satisfied: jinja2 in /usr/local/lib/python3.10/dist-packages (from torch) (3.1.4)\n",
            "Requirement already satisfied: fsspec in /usr/local/lib/python3.10/dist-packages (from torch) (2023.6.0)\n",
            "Collecting nvidia-cuda-nvrtc-cu12==12.1.105 (from torch)\n",
            "  Using cached nvidia_cuda_nvrtc_cu12-12.1.105-py3-none-manylinux1_x86_64.whl (23.7 MB)\n",
            "Collecting nvidia-cuda-runtime-cu12==12.1.105 (from torch)\n",
            "  Using cached nvidia_cuda_runtime_cu12-12.1.105-py3-none-manylinux1_x86_64.whl (823 kB)\n",
            "Collecting nvidia-cuda-cupti-cu12==12.1.105 (from torch)\n",
            "  Using cached nvidia_cuda_cupti_cu12-12.1.105-py3-none-manylinux1_x86_64.whl (14.1 MB)\n",
            "Collecting nvidia-cudnn-cu12==8.9.2.26 (from torch)\n",
            "  Using cached nvidia_cudnn_cu12-8.9.2.26-py3-none-manylinux1_x86_64.whl (731.7 MB)\n",
            "Collecting nvidia-cublas-cu12==12.1.3.1 (from torch)\n",
            "  Using cached nvidia_cublas_cu12-12.1.3.1-py3-none-manylinux1_x86_64.whl (410.6 MB)\n",
            "Collecting nvidia-cufft-cu12==11.0.2.54 (from torch)\n",
            "  Using cached nvidia_cufft_cu12-11.0.2.54-py3-none-manylinux1_x86_64.whl (121.6 MB)\n",
            "Collecting nvidia-curand-cu12==10.3.2.106 (from torch)\n",
            "  Using cached nvidia_curand_cu12-10.3.2.106-py3-none-manylinux1_x86_64.whl (56.5 MB)\n",
            "Collecting nvidia-cusolver-cu12==11.4.5.107 (from torch)\n",
            "  Using cached nvidia_cusolver_cu12-11.4.5.107-py3-none-manylinux1_x86_64.whl (124.2 MB)\n",
            "Collecting nvidia-cusparse-cu12==12.1.0.106 (from torch)\n",
            "  Using cached nvidia_cusparse_cu12-12.1.0.106-py3-none-manylinux1_x86_64.whl (196.0 MB)\n",
            "Collecting nvidia-nccl-cu12==2.20.5 (from torch)\n",
            "  Using cached nvidia_nccl_cu12-2.20.5-py3-none-manylinux2014_x86_64.whl (176.2 MB)\n",
            "Collecting nvidia-nvtx-cu12==12.1.105 (from torch)\n",
            "  Using cached nvidia_nvtx_cu12-12.1.105-py3-none-manylinux1_x86_64.whl (99 kB)\n",
            "Requirement already satisfied: triton==2.3.0 in /usr/local/lib/python3.10/dist-packages (from torch) (2.3.0)\n",
            "Collecting nvidia-nvjitlink-cu12 (from nvidia-cusolver-cu12==11.4.5.107->torch)\n",
            "  Downloading nvidia_nvjitlink_cu12-12.5.40-py3-none-manylinux2014_x86_64.whl (21.3 MB)\n",
            "\u001b[2K     \u001b[90m━━━━━━━━━━━━━━━━━━━━━━━━━━━━━━━━━━━━━━━━\u001b[0m \u001b[32m21.3/21.3 MB\u001b[0m \u001b[31m57.7 MB/s\u001b[0m eta \u001b[36m0:00:00\u001b[0m\n",
            "\u001b[?25hRequirement already satisfied: MarkupSafe>=2.0 in /usr/local/lib/python3.10/dist-packages (from jinja2->torch) (2.1.5)\n",
            "Requirement already satisfied: charset-normalizer<4,>=2 in /usr/local/lib/python3.10/dist-packages (from requests->transformers) (3.3.2)\n",
            "Requirement already satisfied: idna<4,>=2.5 in /usr/local/lib/python3.10/dist-packages (from requests->transformers) (3.7)\n",
            "Requirement already satisfied: urllib3<3,>=1.21.1 in /usr/local/lib/python3.10/dist-packages (from requests->transformers) (2.0.7)\n",
            "Requirement already satisfied: certifi>=2017.4.17 in /usr/local/lib/python3.10/dist-packages (from requests->transformers) (2024.2.2)\n",
            "Requirement already satisfied: mpmath<1.4.0,>=1.1.0 in /usr/local/lib/python3.10/dist-packages (from sympy->torch) (1.3.0)\n",
            "Installing collected packages: nvidia-nvtx-cu12, nvidia-nvjitlink-cu12, nvidia-nccl-cu12, nvidia-curand-cu12, nvidia-cufft-cu12, nvidia-cuda-runtime-cu12, nvidia-cuda-nvrtc-cu12, nvidia-cuda-cupti-cu12, nvidia-cublas-cu12, nvidia-cusparse-cu12, nvidia-cudnn-cu12, nvidia-cusolver-cu12\n",
            "Successfully installed nvidia-cublas-cu12-12.1.3.1 nvidia-cuda-cupti-cu12-12.1.105 nvidia-cuda-nvrtc-cu12-12.1.105 nvidia-cuda-runtime-cu12-12.1.105 nvidia-cudnn-cu12-8.9.2.26 nvidia-cufft-cu12-11.0.2.54 nvidia-curand-cu12-10.3.2.106 nvidia-cusolver-cu12-11.4.5.107 nvidia-cusparse-cu12-12.1.0.106 nvidia-nccl-cu12-2.20.5 nvidia-nvjitlink-cu12-12.5.40 nvidia-nvtx-cu12-12.1.105\n"
          ]
        }
      ]
    },
    {
      "cell_type": "code",
      "metadata": {
        "id": "Xtu7waVKfby6",
        "colab": {
          "base_uri": "https://localhost:8080/"
        },
        "outputId": "f30d13c1-61eb-400e-e43a-991a38a77c50"
      },
      "source": [
        "import numpy as np\n",
        "import pandas as pd\n",
        "import os\n",
        "import json\n",
        "import matplotlib.pyplot as plt\n",
        "import datetime\n",
        "from datetime import datetime, timedelta\n",
        "import pytz\n",
        "from scipy import stats\n",
        "import statsmodels.api as sm\n",
        "from sklearn.preprocessing import StandardScaler, PolynomialFeatures\n",
        "from sklearn.model_selection import train_test_split, cross_val_score, KFold\n",
        "from sklearn.neighbors import KNeighborsRegressor\n",
        "from sklearn.linear_model import LinearRegression\n",
        "from sklearn.linear_model import Ridge, RidgeCV\n",
        "from sklearn.linear_model import Lasso\n",
        "from sklearn.neural_network import MLPRegressor\n",
        "from sklearn.pipeline import Pipeline\n",
        "from sklearn.ensemble import RandomForestRegressor\n",
        "from sklearn.ensemble import GradientBoostingRegressor\n",
        "import xgboost\n",
        "from xgboost import XGBRegressor\n",
        "from sklearn.tree import DecisionTreeRegressor\n",
        "from sklearn.ensemble import AdaBoostRegressor\n",
        "from sklearn.ensemble import BaggingRegressor\n",
        "from sklearn.svm import SVR\n",
        "from sklearn.metrics import r2_score\n",
        "from sklearn.metrics import mean_squared_error\n",
        "from sklearn.metrics import mean_absolute_error\n",
        "from sklearn.feature_selection import mutual_info_regression\n",
        "from sklearn.feature_selection import f_regression\n",
        "import seaborn as sns\n",
        "from sklearn.model_selection import GridSearchCV\n",
        "from sklearn.tree import plot_tree, export_text\n",
        "import random\n",
        "import re\n",
        "import nltk\n",
        "from nltk.corpus import stopwords\n",
        "from nltk.tokenize import word_tokenize\n",
        "\n",
        "# Ensure you have the necessary NLTK data files\n",
        "nltk.download('stopwords')\n",
        "nltk.download('punkt')\n",
        "\n",
        "import nltk\n",
        "nltk.download('wordnet')\n",
        "nltk.download('omw-1.4')\n",
        "nltk.download('averaged_perceptron_tagger')\n",
        "from nltk.stem import WordNetLemmatizer\n",
        "from nltk.corpus import wordnet\n",
        "from nltk import pos_tag\n",
        "from transformers import AutoTokenizer, AutoModelForSequenceClassification\n",
        "import torch\n",
        "\n",
        "np.random.seed(0)"
      ],
      "execution_count": 3,
      "outputs": [
        {
          "output_type": "stream",
          "name": "stderr",
          "text": [
            "[nltk_data] Downloading package stopwords to /root/nltk_data...\n",
            "[nltk_data]   Unzipping corpora/stopwords.zip.\n",
            "[nltk_data] Downloading package punkt to /root/nltk_data...\n",
            "[nltk_data]   Unzipping tokenizers/punkt.zip.\n",
            "[nltk_data] Downloading package wordnet to /root/nltk_data...\n",
            "[nltk_data] Downloading package omw-1.4 to /root/nltk_data...\n",
            "[nltk_data] Downloading package averaged_perceptron_tagger to\n",
            "[nltk_data]     /root/nltk_data...\n",
            "[nltk_data]   Unzipping taggers/averaged_perceptron_tagger.zip.\n"
          ]
        }
      ]
    },
    {
      "cell_type": "markdown",
      "source": [
        "# Load Dataset"
      ],
      "metadata": {
        "id": "Le0rqutKy3l9"
      }
    },
    {
      "cell_type": "markdown",
      "source": [
        "Load the Twitter datasets and explore the datasets. Data is available here: https://ucla.app.box.com/s/24oxnhsoj6kpxhl6gyvuck25i3s4426d"
      ],
      "metadata": {
        "id": "qj0v3EJNhvl1"
      }
    },
    {
      "cell_type": "code",
      "source": [
        "# specify the directory containing your files\n",
        "directory = '/content/drive/My Drive/twitter'\n",
        "\n",
        "# list all text files in the directory\n",
        "file_names = [os.path.join(directory, f) for f in os.listdir(directory) if f.endswith('.txt')]\n",
        "\n",
        "# print file names\n",
        "print(file_names)"
      ],
      "metadata": {
        "colab": {
          "base_uri": "https://localhost:8080/"
        },
        "id": "OnG5E2Ef1OaC",
        "outputId": "7051fd2c-d950-4163-85bb-dd1a45133b7a"
      },
      "execution_count": 4,
      "outputs": [
        {
          "output_type": "stream",
          "name": "stdout",
          "text": [
            "['/content/drive/My Drive/twitter/tweets_#gohawks.txt', '/content/drive/My Drive/twitter/tweets_#gopatriots.txt', '/content/drive/My Drive/twitter/tweets_#nfl.txt', '/content/drive/My Drive/twitter/tweets_#patriots.txt', '/content/drive/My Drive/twitter/tweets_#sb49.txt', '/content/drive/My Drive/twitter/tweets_#superbowl.txt']\n"
          ]
        }
      ]
    },
    {
      "cell_type": "code",
      "source": [
        "# function to load and parse tweets from a file\n",
        "def load_tweets(file_name):\n",
        "    with open(file_name, 'r') as file:\n",
        "        tweets = [json.loads(line) for line in file]\n",
        "    return tweets"
      ],
      "metadata": {
        "id": "A5FaZlRp2Qqj"
      },
      "execution_count": 5,
      "outputs": []
    },
    {
      "cell_type": "code",
      "source": [
        "# look at the content of a tweet\n",
        "#tweets = load_tweets(file_names[0])\n",
        "#print(tweets[0])"
      ],
      "metadata": {
        "id": "P8JyNKBX2bQy"
      },
      "execution_count": 6,
      "outputs": []
    },
    {
      "cell_type": "code",
      "source": [
        "# list all keys in the dictionary\n",
        "#print(tweets[1].keys())"
      ],
      "metadata": {
        "id": "LdpeEGpy3H_S"
      },
      "execution_count": 7,
      "outputs": []
    },
    {
      "cell_type": "code",
      "source": [
        "# function to extract hashtag from filename\n",
        "def get_hashtag_from_filename(file_name):\n",
        "    base_name = os.path.basename(file_name)\n",
        "    # Remove the file extension\n",
        "    file_without_extension = os.path.splitext(base_name)[0]\n",
        "    # Extract the text after the '#'\n",
        "    hashtag = file_without_extension.split('#')[-1]\n",
        "    return hashtag"
      ],
      "metadata": {
        "id": "dWPwyuDqJxAy"
      },
      "execution_count": 8,
      "outputs": []
    },
    {
      "cell_type": "code",
      "source": [
        "# function to extract required information from tweets\n",
        "def extract_tweet_info(tweet, hashtag):\n",
        "    time_posted = tweet['citation_date']\n",
        "    # convert to UTC time\n",
        "    utc_time = datetime.datetime.utcfromtimestamp(time_posted).replace(tzinfo=pytz.utc)\n",
        "    # convert to PST timezone\n",
        "    pst_timezone = pytz.timezone('US/Pacific')\n",
        "    time_posted = utc_time.astimezone(pst_timezone)\n",
        "    # extract the text\n",
        "    # print(tweet['tweet']['text']\n",
        "    text = tweet['tweet']['text']\n",
        "    # extract the author name\n",
        "    author_name = tweet['author']['name']\n",
        "    retweets = tweet['metrics']['citations']['total']\n",
        "    followers = tweet['author']['followers']\n",
        "\n",
        "\n",
        "    return {\n",
        "      'time_posted': time_posted,\n",
        "      'retweets': retweets,\n",
        "      'followers': followers,\n",
        "      'author_name': author_name,\n",
        "      'hashtag': hashtag,\n",
        "      'text': text\n",
        "    }"
      ],
      "metadata": {
        "id": "qPRIlP3_2S63"
      },
      "execution_count": 9,
      "outputs": []
    },
    {
      "cell_type": "code",
      "source": [
        "# load and process tweets from all files\n",
        "all_tweets_data = []\n",
        "\n",
        "#for file_name in file_names:\n",
        "    #hashtag = get_hashtag_from_filename(file_name)\n",
        "    #tweets = load_tweets(file_name)\n",
        "    #for tweet in tweets:\n",
        "        #tweet_info = extract_tweet_info(tweet, hashtag)\n",
        "        #all_tweets_data.append(tweet_info)"
      ],
      "metadata": {
        "id": "lqEw9Zsa5bKa"
      },
      "execution_count": 10,
      "outputs": []
    },
    {
      "cell_type": "code",
      "source": [
        "# print the first 5 tweet info\n",
        "#for tweet_info in all_tweets_data[:10]:\n",
        "    #print(tweet_info)"
      ],
      "metadata": {
        "id": "NQlEC3lbKljD"
      },
      "execution_count": 11,
      "outputs": []
    },
    {
      "cell_type": "code",
      "source": [
        "# create a dataframe from the tweet data\n",
        "#df = pd.DataFrame(all_tweets_data)"
      ],
      "metadata": {
        "id": "5YlmgWEIiQj3"
      },
      "execution_count": 12,
      "outputs": []
    },
    {
      "cell_type": "code",
      "source": [
        "# create a time posted column in the dataframe\n",
        "#df['time_posted'] = pd.to_datetime(df['time_posted'], unit='s')"
      ],
      "metadata": {
        "id": "jBOY-EQtjD6k"
      },
      "execution_count": 13,
      "outputs": []
    },
    {
      "cell_type": "code",
      "source": [
        "#print(df.head())"
      ],
      "metadata": {
        "id": "lMxI1J-djOHN"
      },
      "execution_count": 14,
      "outputs": []
    },
    {
      "cell_type": "code",
      "source": [
        "#summary = df.describe()\n",
        "#summary_rounded = summary.round(2)\n",
        "#print(summary_rounded)"
      ],
      "metadata": {
        "id": "hbQ4qe_RmQk2"
      },
      "execution_count": 15,
      "outputs": []
    },
    {
      "cell_type": "code",
      "source": [
        "# save the df as a pickle file back to Google Drive\n",
        "#df.to_pickle('/content/drive/My Drive/twitter/all_tweets.pkl')"
      ],
      "metadata": {
        "id": "bQCXHgpxk-Nl"
      },
      "execution_count": 16,
      "outputs": []
    },
    {
      "cell_type": "code",
      "source": [
        "# reload the pickle file for analysis\n",
        "df = pd.read_pickle('/content/drive/My Drive/twitter/all_tweets.pkl')"
      ],
      "metadata": {
        "id": "sfNVFMBZlUFn"
      },
      "execution_count": 17,
      "outputs": []
    },
    {
      "cell_type": "markdown",
      "source": [
        "# Question 9.1\n",
        "\n",
        "Report the following statistics for each hashtag, i.e. each file:\n",
        "• Average number of tweets per hour\n",
        "• Average number of followers of users posting the tweets per tweet (to make it simple,\n",
        "we average over the number of tweets; if a users posted twice, we count the user\n",
        "and the user’s followers twice as well)\n",
        "• Average number of retweets per tweet"
      ],
      "metadata": {
        "id": "atk7Tz3Ikf93"
      }
    },
    {
      "cell_type": "code",
      "source": [
        "# function to calculate statistics on each hashtag\n",
        "def calculate_statistics(df):\n",
        "    hashtags = df['hashtag'].unique()\n",
        "    stats = []\n",
        "\n",
        "    for hashtag in hashtags:\n",
        "        hashtag_df = df[df['hashtag'] == hashtag]\n",
        "\n",
        "        # set 'time_posted' as the index for resampling\n",
        "        hashtag_df.set_index('time_posted', inplace=True)\n",
        "        # resample by hour (H) and count the number of tweets per hour\n",
        "        tweets_per_hour = hashtag_df.resample('H').size().mean()\n",
        "        avg_followers_per_tweet = hashtag_df['followers'].mean()\n",
        "        avg_retweets_per_tweet = hashtag_df['retweets'].mean()\n",
        "        total_tweets = hashtag_df.shape[0]\n",
        "\n",
        "        stats.append({\n",
        "            'hashtag': hashtag,\n",
        "            'avg_tweets_per_hour': tweets_per_hour,\n",
        "            'avg_followers_per_tweet': avg_followers_per_tweet,\n",
        "            'avg_retweets_per_tweet': avg_retweets_per_tweet,\n",
        "            'total_tweets': total_tweets\n",
        "        })\n",
        "\n",
        "    return stats"
      ],
      "metadata": {
        "id": "7JKHSwxMjfTN"
      },
      "execution_count": 18,
      "outputs": []
    },
    {
      "cell_type": "code",
      "source": [
        "# calculate statistics and print results\n",
        "statistics = calculate_statistics(df)\n",
        "for stat in statistics:\n",
        "    print(f\"Hashtag: {stat['hashtag']}\")\n",
        "    print(f\"Average number of tweets per hour: {stat['avg_tweets_per_hour']:.2f}\")\n",
        "    print(f\"Average number of followers per tweet: {stat['avg_followers_per_tweet']:.2f}\")\n",
        "    print(f\"Average number of retweets per tweet: {stat['avg_retweets_per_tweet']:.2f}\")\n",
        "    print(f\"Total tweets: {stat['total_tweets']}\\n\")"
      ],
      "metadata": {
        "colab": {
          "base_uri": "https://localhost:8080/"
        },
        "id": "y88yX2Q6j0K7",
        "outputId": "f15618a2-17f3-4436-f908-c737bfa07c39"
      },
      "execution_count": 19,
      "outputs": [
        {
          "output_type": "stream",
          "name": "stdout",
          "text": [
            "Hashtag: gohawks\n",
            "Average number of tweets per hour: 292.09\n",
            "Average number of followers per tweet: 2217.92\n",
            "Average number of retweets per tweet: 2.01\n",
            "Total tweets: 169122\n",
            "\n",
            "Hashtag: gopatriots\n",
            "Average number of tweets per hour: 40.89\n",
            "Average number of followers per tweet: 1427.25\n",
            "Average number of retweets per tweet: 1.41\n",
            "Total tweets: 23511\n",
            "\n",
            "Hashtag: nfl\n",
            "Average number of tweets per hour: 396.97\n",
            "Average number of followers per tweet: 4662.38\n",
            "Average number of retweets per tweet: 1.53\n",
            "Total tweets: 233022\n",
            "\n",
            "Hashtag: patriots\n",
            "Average number of tweets per hour: 750.63\n",
            "Average number of followers per tweet: 3280.46\n",
            "Average number of retweets per tweet: 1.79\n",
            "Total tweets: 440621\n",
            "\n",
            "Hashtag: sb49\n",
            "Average number of tweets per hour: 1275.56\n",
            "Average number of followers per tweet: 10374.16\n",
            "Average number of retweets per tweet: 2.53\n",
            "Total tweets: 743649\n",
            "\n",
            "Hashtag: superbowl\n",
            "Average number of tweets per hour: 2067.82\n",
            "Average number of followers per tweet: 8814.97\n",
            "Average number of retweets per tweet: 2.39\n",
            "Total tweets: 1213813\n",
            "\n"
          ]
        }
      ]
    },
    {
      "cell_type": "markdown",
      "source": [
        "# Question 9.2\n",
        "\n",
        "Plot “number of tweets in hour” over time for #SuperBowl and #NFL (a bar plot with 1-hour bins). The tweets are stored in separate files for different hashtags and files are named as tweet [#hashtag].txt.\n"
      ],
      "metadata": {
        "id": "CsNlTegjnPip"
      }
    },
    {
      "cell_type": "markdown",
      "source": [
        "# Filter data by dates to see more granular trends by hashtag"
      ],
      "metadata": {
        "id": "JGamH0qQup3J"
      }
    },
    {
      "cell_type": "code",
      "source": [
        "# function to filter, resample, and plot by date and hashtag\n",
        "def filter_resample_plot(df, start_date_str, end_date_str, hashtags):\n",
        "    \"\"\"\n",
        "    Parameters:\n",
        "    start_date_str (str): The start date in 'YYYY-MM-DD' format.\n",
        "    end_date_str (str): The end date in 'YYYY-MM-DD' format.\n",
        "    hashtags (list): List of hashtags to filter and plot.\n",
        "    \"\"\"\n",
        "    # convert start and end dates to datetime with timezone\n",
        "    seattle_tz = pytz.timezone('US/Pacific')\n",
        "    start_date = seattle_tz.localize(datetime.strptime(start_date_str, '%Y-%m-%d'))\n",
        "    end_date = seattle_tz.localize(datetime.strptime(end_date_str, '%Y-%m-%d'))\n",
        "\n",
        "    # filter data for the specific date range in PST timezone\n",
        "    filtered_df = df[(df['time_posted'] >= start_date) & (df['time_posted'] < end_date)]\n",
        "\n",
        "    plt.figure(figsize=(15, 8))\n",
        "\n",
        "    # iterate over each hashtag and plot the resampled data\n",
        "    for hashtag in hashtags:\n",
        "        hashtag_df = filtered_df[filtered_df['hashtag'] == hashtag]\n",
        "\n",
        "        # resample data to 1-hour bins\n",
        "        hashtag_df.set_index('time_posted', inplace=True)\n",
        "        resampled = hashtag_df.resample('H').size()\n",
        "\n",
        "        # plot\n",
        "        plt.bar(resampled.index, resampled, width=0.03, label=f'#{hashtag}', alpha=0.7)\n",
        "\n",
        "    # Formatting the plot\n",
        "    plt.xlabel('Time')\n",
        "    plt.ylabel('Number of Tweets')\n",
        "    plt.title(f'Number of Tweets per Hour for {\", \".join([\"#\" + h for h in hashtags])} from {start_date_str} to {end_date_str} (PST)')\n",
        "    plt.legend()\n",
        "    plt.xticks(rotation=45)\n",
        "    plt.tight_layout()\n",
        "\n",
        "    plt.show()"
      ],
      "metadata": {
        "id": "REF04tGctmzc"
      },
      "execution_count": 20,
      "outputs": []
    },
    {
      "cell_type": "code",
      "source": [
        "# lets look at the entire time span\n",
        "filter_resample_plot(df, '2015-01-13', '2015-02-08', ['superbowl', 'nfl'])"
      ],
      "metadata": {
        "colab": {
          "base_uri": "https://localhost:8080/",
          "height": 807
        },
        "id": "rva-iAB7vCkG",
        "outputId": "6a11e08f-8ee7-4d15-d7d9-5b418dfbcf0c"
      },
      "execution_count": 21,
      "outputs": [
        {
          "output_type": "display_data",
          "data": {
            "text/plain": [
              "<Figure size 1500x800 with 1 Axes>"
            ],
            "image/png": "[encoded data removed]"
          },
          "metadata": {}
        }
      ]
    },
    {
      "cell_type": "markdown",
      "source": [
        "We can see that the majority of the tweet activity centers around the championship games on 1/18/15 and the Superbowl on 2/1/15."
      ],
      "metadata": {
        "id": "2o4JJruxwYmS"
      }
    },
    {
      "cell_type": "code",
      "source": [
        "# lets look at the championship games\n",
        "filter_resample_plot(df, '2015-01-18', '2015-01-19', ['superbowl', 'nfl'])"
      ],
      "metadata": {
        "colab": {
          "base_uri": "https://localhost:8080/",
          "height": 807
        },
        "id": "9Fm6zBUmvb4v",
        "outputId": "bbf484e7-f4d3-427e-9931-1940a9e416b7"
      },
      "execution_count": 23,
      "outputs": [
        {
          "output_type": "display_data",
          "data": {
            "text/plain": [
              "<Figure size 1500x800 with 1 Axes>"
            ],
            "image/png": "[encoded data removed]"
          },
          "metadata": {}
        }
      ]
    },
    {
      "cell_type": "markdown",
      "source": [
        "Clearly the NFL dataset isn't large compared to Superbowl related hashtags.  Also, the NFL category will be broader and the data likely more generalized to other teams and topics.  This dataset will be discarded for further analysis."
      ],
      "metadata": {
        "id": "cB8cL8Ul2Hgf"
      }
    },
    {
      "cell_type": "code",
      "source": [
        "# lets look at other hashtags\n",
        "filter_resample_plot(df, '2015-02-01', '2015-02-02', ['gohawks', 'gopatriots', 'patriots'])"
      ],
      "metadata": {
        "colab": {
          "base_uri": "https://localhost:8080/",
          "height": 807
        },
        "id": "R-s7JcDexDto",
        "outputId": "85655642-cddc-4b93-97d7-836b7c3749ab"
      },
      "execution_count": 24,
      "outputs": [
        {
          "output_type": "display_data",
          "data": {
            "text/plain": [
              "<Figure size 1500x800 with 1 Axes>"
            ],
            "image/png": "[encoded data removed]"
          },
          "metadata": {}
        }
      ]
    },
    {
      "cell_type": "markdown",
      "source": [
        "I can see that I have an imbalance of tweets in favor of the patriots."
      ],
      "metadata": {
        "id": "GsVPWqBgxxtQ"
      }
    },
    {
      "cell_type": "code",
      "source": [
        "# what about just the superbowl or neutral hashtags\n",
        "filter_resample_plot(df, '2015-02-01', '2015-02-02', ['superbowl', 'sb49', 'nfl'])"
      ],
      "metadata": {
        "colab": {
          "base_uri": "https://localhost:8080/",
          "height": 807
        },
        "id": "ISfM4IjjyVpP",
        "outputId": "f4de4e63-f13a-49f7-ad89-7b6d97ee53de"
      },
      "execution_count": 25,
      "outputs": [
        {
          "output_type": "display_data",
          "data": {
            "text/plain": [
              "<Figure size 1500x800 with 1 Axes>"
            ],
            "image/png": "[encoded data removed]"
          },
          "metadata": {}
        }
      ]
    },
    {
      "cell_type": "code",
      "source": [
        "# how about the patriots and seahawks on 1/18/15\n",
        "filter_resample_plot(df, '2015-01-18', '2015-01-19', ['patriots', 'gohawks', 'gopatriots'])"
      ],
      "metadata": {
        "colab": {
          "base_uri": "https://localhost:8080/",
          "height": 807
        },
        "id": "QgSAjjGTy_TG",
        "outputId": "fb554547-ace9-4387-f376-8377dc9bc891"
      },
      "execution_count": 26,
      "outputs": [
        {
          "output_type": "display_data",
          "data": {
            "text/plain": [
              "<Figure size 1500x800 with 1 Axes>"
            ],
            "image/png": "[encoded data removed]"
          },
          "metadata": {}
        }
      ]
    },
    {
      "cell_type": "markdown",
      "source": [
        "Well, it seems we would be wise to choose the Superbowl timeframe, I do not see enough consistent nor high volume tweet data in this timeframe."
      ],
      "metadata": {
        "id": "enRU6W6i06Hq"
      }
    },
    {
      "cell_type": "markdown",
      "source": [
        "# Create a feature dataset from the event logs from the game"
      ],
      "metadata": {
        "id": "2_x65ckVARQj"
      }
    },
    {
      "cell_type": "code",
      "source": [
        "# function to correlate football game time to real time\n",
        "def correlate_game_clock_to_real_time(game_start_time, quarter, time_left_in_quarter):\n",
        "    \"\"\"\n",
        "    Correlate football game clock to the actual time of day.\n",
        "\n",
        "    Parameters:\n",
        "    game_start_time (datetime): The real-world start time of the game.\n",
        "    quarter (int): The current quarter (1 to 4).\n",
        "    time_left_in_quarter (str): Time left in the quarter in \"MM:SS\" format.\n",
        "\n",
        "    Returns:\n",
        "    datetime: The actual time of day corresponding to the game clock.\n",
        "    \"\"\"\n",
        "    # Duration of each quarter in minutes\n",
        "    quarter_duration = 15\n",
        "    # Duration of halftime break in minutes (actual was 12:41)\n",
        "    halftime_duration = 13\n",
        "\n",
        "    # Convert time left in quarter to timedelta\n",
        "    minutes, seconds = map(int, time_left_in_quarter.split(':'))\n",
        "    time_left = timedelta(minutes=minutes, seconds=seconds)\n",
        "\n",
        "    # Calculate elapsed game time before the current quarter\n",
        "    elapsed_game_time = timedelta()\n",
        "    if quarter > 1:\n",
        "        elapsed_game_time += timedelta(minutes=(quarter - 1) * quarter_duration)\n",
        "    if quarter > 2:\n",
        "        elapsed_game_time += timedelta(minutes=halftime_duration)\n",
        "\n",
        "    # Calculate elapsed real time before the current quarter\n",
        "    # Adding average additional time for breaks, stoppages, etc.\n",
        "    avg_additional_time_per_quarter = 51.5  #this value aligned the final touchdown with the actual time of 7:15 pm PST\n",
        "    elapsed_real_time = elapsed_game_time + timedelta(minutes=(quarter - 1) * avg_additional_time_per_quarter)\n",
        "\n",
        "    # Calculate the actual time of day\n",
        "    actual_time = game_start_time + elapsed_real_time + (timedelta(minutes=quarter_duration) - time_left)\n",
        "\n",
        "    return actual_time"
      ],
      "metadata": {
        "id": "UzEMrvig-k2a"
      },
      "execution_count": 27,
      "outputs": []
    },
    {
      "cell_type": "code",
      "source": [
        "game_log_df = pd.read_csv('/content/drive/My Drive/twitter/game_log.csv')"
      ],
      "metadata": {
        "id": "MrK0IYFwCLIt"
      },
      "execution_count": 28,
      "outputs": []
    },
    {
      "cell_type": "code",
      "source": [
        "# drop NaN values\n",
        "game_log_df = game_log_df.dropna()\n",
        "\n",
        "# clean up game_time column to remove extra quotes\n",
        "game_log_df['game_time'] = game_log_df['game_time'].str.replace('\"', '')"
      ],
      "metadata": {
        "id": "0ihnvA4_ONza"
      },
      "execution_count": 29,
      "outputs": []
    },
    {
      "cell_type": "code",
      "source": [
        "print(game_log_df)"
      ],
      "metadata": {
        "colab": {
          "base_uri": "https://localhost:8080/"
        },
        "id": "nQvucmQMOSG_",
        "outputId": "915d64ec-3e56-43a7-c8d1-7ae5ddf7cf59"
      },
      "execution_count": 30,
      "outputs": [
        {
          "output_type": "stream",
          "name": "stdout",
          "text": [
            "   team_action        action game_time  quarter  patriots_score  \\\n",
            "0     patriots          punt     11:44      1.0             0.0   \n",
            "1     seahawks          punt     09:30      1.0             0.0   \n",
            "2     patriots  interception     01:50      1.0             0.0   \n",
            "3     seahawks          punt     14:08      2.0             0.0   \n",
            "4     patriots     touchdown     09:47      2.0             7.0   \n",
            "5     seahawks          punt     08:17      2.0             7.0   \n",
            "6     patriots          punt     07:17      2.0             7.0   \n",
            "7     seahawks     touchdown     02:16      2.0             7.0   \n",
            "8     patriots     touchdown     00:31      2.0            14.0   \n",
            "9     seahawks     touchdown     00:02      2.0            14.0   \n",
            "10    seahawks    field_goal     11:09      3.0            14.0   \n",
            "11    patriots  interception     08:15      3.0            14.0   \n",
            "12    seahawks     touchdown     04:54      3.0            14.0   \n",
            "13    patriots          punt     03:24      3.0            14.0   \n",
            "14    seahawks          punt     01:05      3.0            14.0   \n",
            "15    patriots          punt     14:28      4.0            14.0   \n",
            "16    seahawks          punt     12:22      4.0            14.0   \n",
            "17    patriots     touchdown     07:55      4.0            21.0   \n",
            "18    seahawks          punt     07:00      4.0            21.0   \n",
            "19    patriots     touchdown     02:02      4.0            28.0   \n",
            "20    seahawks  interception     00:26      4.0            28.0   \n",
            "\n",
            "    seahawks_score  \n",
            "0              0.0  \n",
            "1              0.0  \n",
            "2              0.0  \n",
            "3              0.0  \n",
            "4              0.0  \n",
            "5              0.0  \n",
            "6              0.0  \n",
            "7              7.0  \n",
            "8              7.0  \n",
            "9             14.0  \n",
            "10            17.0  \n",
            "11            17.0  \n",
            "12            24.0  \n",
            "13            24.0  \n",
            "14            24.0  \n",
            "15            24.0  \n",
            "16            24.0  \n",
            "17            24.0  \n",
            "18            24.0  \n",
            "19            24.0  \n",
            "20            24.0  \n"
          ]
        }
      ]
    },
    {
      "cell_type": "markdown",
      "source": [
        "# Find the real time approximation for the superbowl game events"
      ],
      "metadata": {
        "id": "1e6RO2bdP76L"
      }
    },
    {
      "cell_type": "code",
      "source": [
        "# define the game start time\n",
        "game_start_time = datetime(2015, 2, 1, 15, 30)  # actual game start time at 3:30 PM PST\n",
        "\n",
        "# function to add the real time to the game_log dataframe\n",
        "def add_real_time(row):\n",
        "    return correlate_game_clock_to_real_time(game_start_time, row['quarter'], row['game_time'])\n",
        "\n",
        "# apply add real time function to each row in the game_log dataframe\n",
        "game_log_df['real_time'] = game_log_df.apply(add_real_time, axis=1)\n",
        "\n",
        "#print the game_log dataframe\n",
        "print(game_log_df)"
      ],
      "metadata": {
        "colab": {
          "base_uri": "https://localhost:8080/"
        },
        "id": "DRbxhUc1BDBX",
        "outputId": "da912ab9-7201-409e-ef63-dc169c9c74a1"
      },
      "execution_count": 31,
      "outputs": [
        {
          "output_type": "stream",
          "name": "stdout",
          "text": [
            "   team_action        action game_time  quarter  patriots_score  \\\n",
            "0     patriots          punt     11:44      1.0             0.0   \n",
            "1     seahawks          punt     09:30      1.0             0.0   \n",
            "2     patriots  interception     01:50      1.0             0.0   \n",
            "3     seahawks          punt     14:08      2.0             0.0   \n",
            "4     patriots     touchdown     09:47      2.0             7.0   \n",
            "5     seahawks          punt     08:17      2.0             7.0   \n",
            "6     patriots          punt     07:17      2.0             7.0   \n",
            "7     seahawks     touchdown     02:16      2.0             7.0   \n",
            "8     patriots     touchdown     00:31      2.0            14.0   \n",
            "9     seahawks     touchdown     00:02      2.0            14.0   \n",
            "10    seahawks    field_goal     11:09      3.0            14.0   \n",
            "11    patriots  interception     08:15      3.0            14.0   \n",
            "12    seahawks     touchdown     04:54      3.0            14.0   \n",
            "13    patriots          punt     03:24      3.0            14.0   \n",
            "14    seahawks          punt     01:05      3.0            14.0   \n",
            "15    patriots          punt     14:28      4.0            14.0   \n",
            "16    seahawks          punt     12:22      4.0            14.0   \n",
            "17    patriots     touchdown     07:55      4.0            21.0   \n",
            "18    seahawks          punt     07:00      4.0            21.0   \n",
            "19    patriots     touchdown     02:02      4.0            28.0   \n",
            "20    seahawks  interception     00:26      4.0            28.0   \n",
            "\n",
            "    seahawks_score           real_time  \n",
            "0              0.0 2015-02-01 15:33:16  \n",
            "1              0.0 2015-02-01 15:35:30  \n",
            "2              0.0 2015-02-01 15:43:10  \n",
            "3              0.0 2015-02-01 16:37:22  \n",
            "4              0.0 2015-02-01 16:41:43  \n",
            "5              0.0 2015-02-01 16:43:13  \n",
            "6              0.0 2015-02-01 16:44:13  \n",
            "7              7.0 2015-02-01 16:49:14  \n",
            "8              7.0 2015-02-01 16:50:59  \n",
            "9             14.0 2015-02-01 16:51:28  \n",
            "10            17.0 2015-02-01 17:59:51  \n",
            "11            17.0 2015-02-01 18:02:45  \n",
            "12            24.0 2015-02-01 18:06:06  \n",
            "13            24.0 2015-02-01 18:07:36  \n",
            "14            24.0 2015-02-01 18:09:55  \n",
            "15            24.0 2015-02-01 19:03:02  \n",
            "16            24.0 2015-02-01 19:05:08  \n",
            "17            24.0 2015-02-01 19:09:35  \n",
            "18            24.0 2015-02-01 19:10:30  \n",
            "19            24.0 2015-02-01 19:15:28  \n",
            "20            24.0 2015-02-01 19:17:04  \n"
          ]
        }
      ]
    },
    {
      "cell_type": "markdown",
      "source": [
        "# Parse and process tweet text"
      ],
      "metadata": {
        "id": "6WSWSkcqctCl"
      }
    },
    {
      "cell_type": "code",
      "source": [
        "# function to filter by datetime and hashtag\n",
        "def filter_by_datetime_and_hashtag(df, start_datetime_str, end_datetime_str, hashtags):\n",
        "    \"\"\"\n",
        "    Filter tweet data by date, time, and hashtag.\n",
        "\n",
        "    Parameters:\n",
        "    start_datetime_str (str): The start datetime in 'YYYY-MM-DD HH:MM' format.\n",
        "    end_datetime_str (str): The end datetime in 'YYYY-MM-DD HH:MM' format.\n",
        "    hashtags (list): List of hashtags to filter.\n",
        "\n",
        "    Returns:\n",
        "    pd.DataFrame: Filtered DataFrame.\n",
        "    \"\"\"\n",
        "    # Convert start and end datetimes to datetime with timezone, including minutes\n",
        "    seattle_tz = pytz.timezone('US/Pacific')\n",
        "    start_datetime = seattle_tz.localize(datetime.strptime(start_datetime_str, '%Y-%m-%d %H:%M'))\n",
        "    end_datetime = seattle_tz.localize(datetime.strptime(end_datetime_str, '%Y-%m-%d %H:%M'))\n",
        "\n",
        "    # Filter data for the specific datetime range in PST timezone\n",
        "    filtered_df = df[(df['time_posted'] >= start_datetime) & (df['time_posted'] < end_datetime)]\n",
        "\n",
        "    # Filter data by hashtags\n",
        "    filtered_df = filtered_df[filtered_df['hashtag'].isin(hashtags)]\n",
        "\n",
        "    return filtered_df"
      ],
      "metadata": {
        "id": "4SScnE91iSIc"
      },
      "execution_count": 32,
      "outputs": []
    },
    {
      "cell_type": "code",
      "source": [
        "# we'll parse this data down to tweets on superbowl sunday from 3 pm to 8 pm\n",
        "# and only use the known fans in the dataset\n",
        "df_filtered = filter_by_datetime_and_hashtag(df, '2015-02-01 15:00', '2015-02-01 20:00', ['gohawks', 'gopatriots', 'patriots'])"
      ],
      "metadata": {
        "id": "X8LGePJGczER"
      },
      "execution_count": 33,
      "outputs": []
    },
    {
      "cell_type": "code",
      "source": [
        "# check content and size of dataset\n",
        "print(df_filtered.head())\n",
        "print(df_filtered.shape)"
      ],
      "metadata": {
        "colab": {
          "base_uri": "https://localhost:8080/"
        },
        "id": "3fOBo2Upir8k",
        "outputId": "5a676255-e535-4f27-f204-d421e3b843bc"
      },
      "execution_count": 34,
      "outputs": [
        {
          "output_type": "stream",
          "name": "stdout",
          "text": [
            "                     time_posted  retweets  followers     author_name  \\\n",
            "14074  2015-02-01 16:01:21-08:00         3       27.0    Karinna Bunn   \n",
            "94124  2015-02-01 16:23:20-08:00         8      191.0        12121212   \n",
            "102917 2015-02-01 16:56:44-08:00         6      340.0    The Orca Inn   \n",
            "103247 2015-02-01 17:09:02-08:00       155      141.0  Keirstin Ariel   \n",
            "103458 2015-02-01 16:52:03-08:00        21    15086.0      Alexsandra   \n",
            "\n",
            "        hashtag                                               text  \n",
            "14074   gohawks                    #GoHawks http://t.co/5tIhnn3TMG  \n",
            "94124   gohawks  Just for Super Bowl Week and #Tittytuesday  #g...  \n",
            "102917  gohawks  “@NW_Music_Scene: #GoHawks and Go @NikkiSixx ....  \n",
            "103247  gohawks  RT to win! 1 winner will receive a signed @Mon...  \n",
            "103458  gohawks  .@BostonBallet #SB49 challenge: @Seahawks win=...  \n",
            "(175137, 6)\n"
          ]
        }
      ]
    },
    {
      "cell_type": "code",
      "source": [
        "# function to clean the tweet text data\n",
        "def clean_tweet_text(tweet_text):\n",
        "    \"\"\"\n",
        "    Clean tweet text by removing URLs, mentions, hashtags (keeping only the text),\n",
        "    words with numbers, special characters, and extra whitespace, and converting text to lowercase.\n",
        "\n",
        "    Parameters:\n",
        "    tweet_text (str): The original tweet text.\n",
        "\n",
        "    Returns:\n",
        "    str: The cleaned tweet text.\n",
        "    \"\"\"\n",
        "    # Remove URLs\n",
        "    tweet_text = re.sub(r'http\\S+|www\\S+|https\\S+', '', tweet_text, flags=re.MULTILINE)\n",
        "\n",
        "    # Remove mentions\n",
        "    tweet_text = re.sub(r'@\\w+', '', tweet_text)\n",
        "\n",
        "    # Remove hashtags but keep the text\n",
        "    tweet_text = re.sub(r'#(\\w+)', r'\\1', tweet_text)\n",
        "\n",
        "    # Remove words containing numbers\n",
        "    tweet_text = re.sub(r'\\b\\w*\\d\\w*\\b', '', tweet_text)\n",
        "\n",
        "    # Remove special characters, numbers, and punctuations (except apostrophes)\n",
        "    tweet_text = re.sub(r'[^A-Za-z\\s\\']', '', tweet_text)\n",
        "\n",
        "    # Convert to lowercase\n",
        "    tweet_text = tweet_text.lower()\n",
        "\n",
        "    # Remove extra whitespace\n",
        "    tweet_text = tweet_text.strip()\n",
        "    tweet_text = re.sub(r'\\s+', ' ', tweet_text)\n",
        "\n",
        "    # Tokenize the tweet text\n",
        "    words = word_tokenize(tweet_text)\n",
        "\n",
        "    # Remove stopwords\n",
        "    stop_words = set(stopwords.words('english'))\n",
        "    cleaned_text = ' '.join(word for word in words if word not in stop_words)\n",
        "\n",
        "    return cleaned_text"
      ],
      "metadata": {
        "id": "GeiwFyf-l7r6"
      },
      "execution_count": 36,
      "outputs": []
    },
    {
      "cell_type": "code",
      "source": [
        "# use the clean_tweet_text function to clean the text in the dataframe\n",
        "df_filtered['cleaned_text'] = df_filtered['text'].apply(clean_tweet_text)"
      ],
      "metadata": {
        "id": "qh5MEQKS7QWu"
      },
      "execution_count": 37,
      "outputs": []
    },
    {
      "cell_type": "code",
      "source": [
        "print(df_filtered.head())"
      ],
      "metadata": {
        "colab": {
          "base_uri": "https://localhost:8080/"
        },
        "id": "GQT65D_t_qIi",
        "outputId": "bf9c1932-7d99-4ee0-8527-d380b7b64188"
      },
      "execution_count": 38,
      "outputs": [
        {
          "output_type": "stream",
          "name": "stdout",
          "text": [
            "                     time_posted  retweets  followers     author_name  \\\n",
            "14074  2015-02-01 16:01:21-08:00         3       27.0    Karinna Bunn   \n",
            "94124  2015-02-01 16:23:20-08:00         8      191.0        12121212   \n",
            "102917 2015-02-01 16:56:44-08:00         6      340.0    The Orca Inn   \n",
            "103247 2015-02-01 17:09:02-08:00       155      141.0  Keirstin Ariel   \n",
            "103458 2015-02-01 16:52:03-08:00        21    15086.0      Alexsandra   \n",
            "\n",
            "        hashtag                                               text  \\\n",
            "14074   gohawks                    #GoHawks http://t.co/5tIhnn3TMG   \n",
            "94124   gohawks  Just for Super Bowl Week and #Tittytuesday  #g...   \n",
            "102917  gohawks  “@NW_Music_Scene: #GoHawks and Go @NikkiSixx ....   \n",
            "103247  gohawks  RT to win! 1 winner will receive a signed @Mon...   \n",
            "103458  gohawks  .@BostonBallet #SB49 challenge: @Seahawks win=...   \n",
            "\n",
            "                                             cleaned_text  \n",
            "14074                                             gohawks  \n",
            "94124                super bowl week tittytuesday gohawks  \n",
            "102917                                         gohawks go  \n",
            "103247  rt win winner receive signed football winner w...  \n",
            "103458  challenge winyou manege seattle tunepatriots w...  \n"
          ]
        }
      ]
    },
    {
      "cell_type": "code",
      "source": [
        "# lemmatize the text\n",
        "\n",
        "lemmatizer = WordNetLemmatizer()\n",
        "\n",
        "def get_wordnet_pos(treebank_tag):\n",
        "    \"\"\"\n",
        "    Convert Treebank part-of-speech tags to WordNet part-of-speech tags.\n",
        "    \"\"\"\n",
        "    if treebank_tag.startswith('J'):\n",
        "        return wordnet.ADJ\n",
        "    elif treebank_tag.startswith('V'):\n",
        "        return wordnet.VERB\n",
        "    elif treebank_tag.startswith('N'):\n",
        "        return wordnet.NOUN\n",
        "    elif treebank_tag.startswith('R'):\n",
        "        return wordnet.ADV\n",
        "    else:\n",
        "        return wordnet.NOUN\n",
        "\n",
        "def lemmatize_text(text):\n",
        "    \"\"\"\n",
        "    Lemmatize the input text.\n",
        "\n",
        "    Parameters:\n",
        "    text (str): The input text to lemmatize.\n",
        "\n",
        "    Returns:\n",
        "    str: The lemmatized text.\n",
        "    \"\"\"\n",
        "    # Tokenize the text\n",
        "    words = word_tokenize(text)\n",
        "    # Get part-of-speech tags for the words\n",
        "    pos_tags = pos_tag(words)\n",
        "    # Lemmatize each word with its part-of-speech tag\n",
        "    lemmatized_words = [lemmatizer.lemmatize(word, get_wordnet_pos(pos)) for word, pos in pos_tags]\n",
        "    # Join the lemmatized words back into a single string\n",
        "    lemmatized_text = ' '.join(lemmatized_words)\n",
        "\n",
        "    return lemmatized_text"
      ],
      "metadata": {
        "id": "_gGoXkkICOl5"
      },
      "execution_count": 39,
      "outputs": []
    },
    {
      "cell_type": "code",
      "source": [
        "# lemmatize the text and add it as a column in the dataframe\n",
        "df_filtered['lemmatized_text'] = df_filtered['cleaned_text'].apply(lemmatize_text)"
      ],
      "metadata": {
        "id": "FWhoB1niGZzf"
      },
      "execution_count": 40,
      "outputs": []
    },
    {
      "cell_type": "code",
      "source": [
        "print(df_filtered.head())"
      ],
      "metadata": {
        "colab": {
          "base_uri": "https://localhost:8080/"
        },
        "id": "OZfma_zWq9Nw",
        "outputId": "0914b0c9-c15b-4546-8a2e-e065f7b19c94"
      },
      "execution_count": 41,
      "outputs": [
        {
          "output_type": "stream",
          "name": "stdout",
          "text": [
            "                     time_posted  retweets  followers     author_name  \\\n",
            "14074  2015-02-01 16:01:21-08:00         3       27.0    Karinna Bunn   \n",
            "94124  2015-02-01 16:23:20-08:00         8      191.0        12121212   \n",
            "102917 2015-02-01 16:56:44-08:00         6      340.0    The Orca Inn   \n",
            "103247 2015-02-01 17:09:02-08:00       155      141.0  Keirstin Ariel   \n",
            "103458 2015-02-01 16:52:03-08:00        21    15086.0      Alexsandra   \n",
            "\n",
            "        hashtag                                               text  \\\n",
            "14074   gohawks                    #GoHawks http://t.co/5tIhnn3TMG   \n",
            "94124   gohawks  Just for Super Bowl Week and #Tittytuesday  #g...   \n",
            "102917  gohawks  “@NW_Music_Scene: #GoHawks and Go @NikkiSixx ....   \n",
            "103247  gohawks  RT to win! 1 winner will receive a signed @Mon...   \n",
            "103458  gohawks  .@BostonBallet #SB49 challenge: @Seahawks win=...   \n",
            "\n",
            "                                             cleaned_text  \\\n",
            "14074                                             gohawks   \n",
            "94124                super bowl week tittytuesday gohawks   \n",
            "102917                                         gohawks go   \n",
            "103247  rt win winner receive signed football winner w...   \n",
            "103458  challenge winyou manege seattle tunepatriots w...   \n",
            "\n",
            "                                          lemmatized_text  \n",
            "14074                                             gohawks  \n",
            "94124                super bowl week tittytuesday gohawks  \n",
            "102917                                         gohawks go  \n",
            "103247  rt win winner receive sign football winner win...  \n",
            "103458  challenge winyou manege seattle tunepatriots w...  \n"
          ]
        }
      ]
    },
    {
      "cell_type": "markdown",
      "source": [
        "# Add sentiment analysis features to the dataset"
      ],
      "metadata": {
        "id": "GVDA5xS0QFU7"
      }
    },
    {
      "cell_type": "code",
      "source": [
        "# Load the tokenizer and model\n",
        "tokenizer = AutoTokenizer.from_pretrained(\"cardiffnlp/twitter-roberta-base-sentiment-latest\")\n",
        "model = AutoModelForSequenceClassification.from_pretrained(\"cardiffnlp/twitter-roberta-base-sentiment-latest\")\n",
        "\n",
        "# Check if CUDA (GPU) is available and move the model to the GPU\n",
        "device = torch.device('cuda' if torch.cuda.is_available() else 'cpu')\n",
        "model.to(device)"
      ],
      "metadata": {
        "colab": {
          "base_uri": "https://localhost:8080/",
          "height": 1000,
          "referenced_widgets": [
            "8d9d1394bb504818bec0504362bb97dd",
            "fa84906152014960bd44defde2b23b5e",
            "8b305b11c0d64e4196511d3f7e083d7d",
            "7f3b3b8a9f224960ae7a75d66350d756",
            "39072fdc670f442c92e5a7036f4c9226",
            "7dc2b29673b148d3964d2371142bee5b",
            "8f56b266805f42ab94656e5f56559bb6",
            "7bddfa6d435843caa711273763637b12",
            "f50fa173dd394fca84cc832ead00b90a",
            "9ac3d5288e2d4d3dad19ceb4ddf57110",
            "c6036a7a06c6445aa318629604b2a05b",
            "1764c5b825394bbb8cca8668976b77ba",
            "19ec6c1a3fcd49bc99994c6bf6493f01",
            "9ffb2dad4acb4e2087be438e6a72c899",
            "1a9f2912a4eb426388e5d4237689662d",
            "bed99c6e0efc495c8df97e9bcb1c0255",
            "767db3cd1f4b4295b224c4987cd67003",
            "2363513d62334dbf8d74911b685dddff",
            "d696abb003394dfa8edc0a2559abf745",
            "c9df52092a8542e8b6c4bc0ff9e98ef0",
            "caf4bf798b084f35b051f42232b7a3b7",
            "0275c61367e04c6da5545d239507024c",
            "6953b76093884401af7eb8ba1ac2bd76",
            "6858ce344daa488a8afa55a54ba10bf6",
            "2f90e16610e9459aa86949173ef26c2b",
            "b4d58f2bdb78463fbfdc8a20707731a7",
            "0bdf7e13affd43e3a3ba462561374255",
            "9155d0d1cba145209902509d43b806e0",
            "2214e65cf3734a209f680671e504b1c7",
            "1a0df683d5124e0daf57efb19c293f3e",
            "191c0490411f476688306d5690d1c488",
            "9108248b7c044727bbfb2165b4e9f5f3",
            "d82bff9bd3da4f7e85dfd5ed8163c00f",
            "b2fb0c132c8f42bf8c162689692e5e2c",
            "82f787628f5c4d83856156f62366b754",
            "707af242b5204bc9b861eb91bc86099e",
            "786bc1fce4e04129ae6f99797fa29c4e",
            "842344c6776949e9923a27cf0401827e",
            "6474974fc6fd423ba43784780f004b1a",
            "bbb89bd2ebd64d04a8a20b156d8f9c51",
            "a87a963f1a6947f38e528d3ae10f735e",
            "f6874f1fc47c4c8895b46b121d0a6ff5",
            "43a3098192c94e10ba7a141c90a77603",
            "5c5560aad2ff4c02b7e42e73c91bda26",
            "9cca980a9d60460486f43577edc788e4",
            "a83c37fce69f44349e36c9d6e2905255",
            "86dd46d9c63743029404b37717ed3dda",
            "169ec63b50764e71991f0bb82998d3b6",
            "ccca41a4e48d4a59af77dc8432c443cd",
            "ef42286e0872406dbf8983b28657cdd1",
            "bb8c9b71ece2497db291423fee234851",
            "8c5af7436fb84b3680a1c4ad7ca38508",
            "73917f1438a849b295d69b324cfc6677",
            "617e3decdf44420682e69a5d784679d0",
            "b156714761e547908140d8bfb4a9c94a"
          ]
        },
        "id": "v0WUMBD7QKrq",
        "outputId": "86a7561f-d590-4831-f708-7adac7c9bec6"
      },
      "execution_count": 42,
      "outputs": [
        {
          "output_type": "stream",
          "name": "stderr",
          "text": [
            "/usr/local/lib/python3.10/dist-packages/huggingface_hub/utils/_token.py:89: UserWarning: \n",
            "The secret `HF_TOKEN` does not exist in your Colab secrets.\n",
            "To authenticate with the Hugging Face Hub, create a token in your settings tab (https://huggingface.co/settings/tokens), set it as secret in your Google Colab and restart your session.\n",
            "You will be able to reuse this secret in all of your notebooks.\n",
            "Please note that authentication is recommended but still optional to access public models or datasets.\n",
            "  warnings.warn(\n",
            "/usr/local/lib/python3.10/dist-packages/huggingface_hub/file_download.py:1132: FutureWarning: `resume_download` is deprecated and will be removed in version 1.0.0. Downloads always resume when possible. If you want to force a new download, use `force_download=True`.\n",
            "  warnings.warn(\n"
          ]
        },
        {
          "output_type": "display_data",
          "data": {
            "text/plain": [
              "config.json:   0%|          | 0.00/929 [00:00<?, ?B/s]"
            ],
            "application/vnd.jupyter.widget-view+json": {
              "version_major": 2,
              "version_minor": 0,
              "model_id": "8d9d1394bb504818bec0504362bb97dd"
            }
          },
          "metadata": {}
        },
        {
          "output_type": "display_data",
          "data": {
            "text/plain": [
              "vocab.json:   0%|          | 0.00/899k [00:00<?, ?B/s]"
            ],
            "application/vnd.jupyter.widget-view+json": {
              "version_major": 2,
              "version_minor": 0,
              "model_id": "1764c5b825394bbb8cca8668976b77ba"
            }
          },
          "metadata": {}
        },
        {
          "output_type": "display_data",
          "data": {
            "text/plain": [
              "merges.txt:   0%|          | 0.00/456k [00:00<?, ?B/s]"
            ],
            "application/vnd.jupyter.widget-view+json": {
              "version_major": 2,
              "version_minor": 0,
              "model_id": "6953b76093884401af7eb8ba1ac2bd76"
            }
          },
          "metadata": {}
        },
        {
          "output_type": "display_data",
          "data": {
            "text/plain": [
              "special_tokens_map.json:   0%|          | 0.00/239 [00:00<?, ?B/s]"
            ],
            "application/vnd.jupyter.widget-view+json": {
              "version_major": 2,
              "version_minor": 0,
              "model_id": "b2fb0c132c8f42bf8c162689692e5e2c"
            }
          },
          "metadata": {}
        },
        {
          "output_type": "display_data",
          "data": {
            "text/plain": [
              "pytorch_model.bin:   0%|          | 0.00/501M [00:00<?, ?B/s]"
            ],
            "application/vnd.jupyter.widget-view+json": {
              "version_major": 2,
              "version_minor": 0,
              "model_id": "9cca980a9d60460486f43577edc788e4"
            }
          },
          "metadata": {}
        },
        {
          "output_type": "stream",
          "name": "stderr",
          "text": [
            "Some weights of the model checkpoint at cardiffnlp/twitter-roberta-base-sentiment-latest were not used when initializing RobertaForSequenceClassification: ['roberta.pooler.dense.bias', 'roberta.pooler.dense.weight']\n",
            "- This IS expected if you are initializing RobertaForSequenceClassification from the checkpoint of a model trained on another task or with another architecture (e.g. initializing a BertForSequenceClassification model from a BertForPreTraining model).\n",
            "- This IS NOT expected if you are initializing RobertaForSequenceClassification from the checkpoint of a model that you expect to be exactly identical (initializing a BertForSequenceClassification model from a BertForSequenceClassification model).\n"
          ]
        },
        {
          "output_type": "execute_result",
          "data": {
            "text/plain": [
              "RobertaForSequenceClassification(\n",
              "  (roberta): RobertaModel(\n",
              "    (embeddings): RobertaEmbeddings(\n",
              "      (word_embeddings): Embedding(50265, 768, padding_idx=1)\n",
              "      (position_embeddings): Embedding(514, 768, padding_idx=1)\n",
              "      (token_type_embeddings): Embedding(1, 768)\n",
              "      (LayerNorm): LayerNorm((768,), eps=1e-05, elementwise_affine=True)\n",
              "      (dropout): Dropout(p=0.1, inplace=False)\n",
              "    )\n",
              "    (encoder): RobertaEncoder(\n",
              "      (layer): ModuleList(\n",
              "        (0-11): 12 x RobertaLayer(\n",
              "          (attention): RobertaAttention(\n",
              "            (self): RobertaSelfAttention(\n",
              "              (query): Linear(in_features=768, out_features=768, bias=True)\n",
              "              (key): Linear(in_features=768, out_features=768, bias=True)\n",
              "              (value): Linear(in_features=768, out_features=768, bias=True)\n",
              "              (dropout): Dropout(p=0.1, inplace=False)\n",
              "            )\n",
              "            (output): RobertaSelfOutput(\n",
              "              (dense): Linear(in_features=768, out_features=768, bias=True)\n",
              "              (LayerNorm): LayerNorm((768,), eps=1e-05, elementwise_affine=True)\n",
              "              (dropout): Dropout(p=0.1, inplace=False)\n",
              "            )\n",
              "          )\n",
              "          (intermediate): RobertaIntermediate(\n",
              "            (dense): Linear(in_features=768, out_features=3072, bias=True)\n",
              "            (intermediate_act_fn): GELUActivation()\n",
              "          )\n",
              "          (output): RobertaOutput(\n",
              "            (dense): Linear(in_features=3072, out_features=768, bias=True)\n",
              "            (LayerNorm): LayerNorm((768,), eps=1e-05, elementwise_affine=True)\n",
              "            (dropout): Dropout(p=0.1, inplace=False)\n",
              "          )\n",
              "        )\n",
              "      )\n",
              "    )\n",
              "  )\n",
              "  (classifier): RobertaClassificationHead(\n",
              "    (dense): Linear(in_features=768, out_features=768, bias=True)\n",
              "    (dropout): Dropout(p=0.1, inplace=False)\n",
              "    (out_proj): Linear(in_features=768, out_features=3, bias=True)\n",
              "  )\n",
              ")"
            ]
          },
          "metadata": {},
          "execution_count": 42
        }
      ]
    },
    {
      "cell_type": "code",
      "source": [
        "def predict_sentiment(text):\n",
        "    \"\"\"\n",
        "    Predict the sentiment score of a tweet.\n",
        "\n",
        "    Parameters:\n",
        "    text (str): The input tweet text.\n",
        "\n",
        "    Returns:\n",
        "    dict: The sentiment scores for positive, neutral, and negative.\n",
        "    \"\"\"\n",
        "    # Tokenize the input text\n",
        "    inputs = tokenizer(text, return_tensors=\"pt\", truncation=True, padding=True, max_length=512).to(device)\n",
        "    # Get model predictions\n",
        "    with torch.no_grad():\n",
        "        outputs = model(**inputs)\n",
        "    # Move logits to CPU for processing\n",
        "    scores = outputs.logits.cpu().numpy()[0]\n",
        "    # Apply softmax to get probabilities\n",
        "    probabilities = torch.nn.functional.softmax(torch.tensor(scores), dim=0).numpy()\n",
        "\n",
        "    return {\n",
        "        \"negative\": probabilities[0],\n",
        "        \"neutral\": probabilities[1],\n",
        "        \"positive\": probabilities[2]\n",
        "    }"
      ],
      "metadata": {
        "id": "gIDAAn4NQZZR"
      },
      "execution_count": 43,
      "outputs": []
    },
    {
      "cell_type": "code",
      "source": [
        "# Add sentiment scores to the dataframe as features\n",
        "df_filtered['sentiment_scores'] = df_filtered['lemmatized_text'].apply(predict_sentiment)"
      ],
      "metadata": {
        "id": "bljfktbZQsbR"
      },
      "execution_count": 44,
      "outputs": []
    },
    {
      "cell_type": "code",
      "source": [
        "# Split sentiment scores into separate columns\n",
        "df_filtered['sentiment_negative'] = df_filtered['sentiment_scores'].apply(lambda x: x['negative'])\n",
        "df_filtered['sentiment_neutral'] = df_filtered['sentiment_scores'].apply(lambda x: x['neutral'])\n",
        "df_filtered['sentiment_positive'] = df_filtered['sentiment_scores'].apply(lambda x: x['positive'])"
      ],
      "metadata": {
        "id": "wgRkRnhXQzf6"
      },
      "execution_count": 45,
      "outputs": []
    },
    {
      "cell_type": "code",
      "source": [
        "print(df_filtered.head())"
      ],
      "metadata": {
        "colab": {
          "base_uri": "https://localhost:8080/"
        },
        "id": "6iKZexdOaQ_V",
        "outputId": "be4cc0e6-822f-45dc-adff-b860bf19e82f"
      },
      "execution_count": 46,
      "outputs": [
        {
          "output_type": "stream",
          "name": "stdout",
          "text": [
            "                     time_posted  retweets  followers     author_name  \\\n",
            "14074  2015-02-01 16:01:21-08:00         3       27.0    Karinna Bunn   \n",
            "94124  2015-02-01 16:23:20-08:00         8      191.0        12121212   \n",
            "102917 2015-02-01 16:56:44-08:00         6      340.0    The Orca Inn   \n",
            "103247 2015-02-01 17:09:02-08:00       155      141.0  Keirstin Ariel   \n",
            "103458 2015-02-01 16:52:03-08:00        21    15086.0      Alexsandra   \n",
            "\n",
            "        hashtag                                               text  \\\n",
            "14074   gohawks                    #GoHawks http://t.co/5tIhnn3TMG   \n",
            "94124   gohawks  Just for Super Bowl Week and #Tittytuesday  #g...   \n",
            "102917  gohawks  “@NW_Music_Scene: #GoHawks and Go @NikkiSixx ....   \n",
            "103247  gohawks  RT to win! 1 winner will receive a signed @Mon...   \n",
            "103458  gohawks  .@BostonBallet #SB49 challenge: @Seahawks win=...   \n",
            "\n",
            "                                             cleaned_text  \\\n",
            "14074                                             gohawks   \n",
            "94124                super bowl week tittytuesday gohawks   \n",
            "102917                                         gohawks go   \n",
            "103247  rt win winner receive signed football winner w...   \n",
            "103458  challenge winyou manege seattle tunepatriots w...   \n",
            "\n",
            "                                          lemmatized_text  \\\n",
            "14074                                             gohawks   \n",
            "94124                super bowl week tittytuesday gohawks   \n",
            "102917                                         gohawks go   \n",
            "103247  rt win winner receive sign football winner win...   \n",
            "103458  challenge winyou manege seattle tunepatriots w...   \n",
            "\n",
            "                                         sentiment_scores  sentiment_negative  \\\n",
            "14074   {'negative': 0.17648447, 'neutral': 0.60134536...            0.176484   \n",
            "94124   {'negative': 0.09190893, 'neutral': 0.552486, ...            0.091909   \n",
            "102917  {'negative': 0.11995082, 'neutral': 0.70555514...            0.119951   \n",
            "103247  {'negative': 0.0057257037, 'neutral': 0.231541...            0.005726   \n",
            "103458  {'negative': 0.02970109, 'neutral': 0.80486184...            0.029701   \n",
            "\n",
            "        sentiment_neutral  sentiment_positive  \n",
            "14074            0.601345            0.222170  \n",
            "94124            0.552486            0.355605  \n",
            "102917           0.705555            0.174494  \n",
            "103247           0.231541            0.762733  \n",
            "103458           0.804862            0.165437  \n"
          ]
        }
      ]
    },
    {
      "cell_type": "code",
      "source": [
        "# create a pickle file of the sentiment feature additon to the dataset\n",
        "df_filtered.to_pickle('/content/drive/My Drive/twitter/twitter_sentiment.pkl')"
      ],
      "metadata": {
        "id": "Mi_IdSGLLjbt"
      },
      "execution_count": 47,
      "outputs": []
    },
    {
      "cell_type": "code",
      "source": [
        "# convert game_log_df to UTC time prior to saving to a pickle file\n",
        "game_log_df['real_time'] = game_log_df['real_time'].dt.tz_localize(None)\n",
        "\n",
        "# create pickle file for game_log_df\n",
        "\n",
        "game_log_df.to_pickle('/content/drive/My Drive/twitter/game_log_df.pkl')"
      ],
      "metadata": {
        "id": "nsP3eJoLxk_D"
      },
      "execution_count": 50,
      "outputs": []
    }
  ]
}